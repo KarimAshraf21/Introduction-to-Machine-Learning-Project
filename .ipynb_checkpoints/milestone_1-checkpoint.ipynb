{
 "cells": [
  {
   "cell_type": "code",
   "execution_count": 1,
   "id": "15382d52",
   "metadata": {},
   "outputs": [],
   "source": [
    "import pandas as pd\n",
    "import numpy as np\n",
    "from sklearn.model_selection import train_test_split"
   ]
  },
  {
   "cell_type": "code",
   "execution_count": 2,
   "id": "27b32dd3",
   "metadata": {},
   "outputs": [],
   "source": [
    "import matplotlib.pyplot as plt"
   ]
  },
  {
   "cell_type": "markdown",
   "id": "24fbbf37",
   "metadata": {},
   "source": [
    "# Reading data"
   ]
  },
  {
   "cell_type": "code",
   "execution_count": 3,
   "id": "668e9097",
   "metadata": {},
   "outputs": [],
   "source": [
    "dataset=pd.read_csv(\"data.csv\")"
   ]
  },
  {
   "cell_type": "code",
   "execution_count": 4,
   "id": "52a2d2f6",
   "metadata": {},
   "outputs": [
    {
     "data": {
      "text/html": [
       "<div>\n",
       "<style scoped>\n",
       "    .dataframe tbody tr th:only-of-type {\n",
       "        vertical-align: middle;\n",
       "    }\n",
       "\n",
       "    .dataframe tbody tr th {\n",
       "        vertical-align: top;\n",
       "    }\n",
       "\n",
       "    .dataframe thead th {\n",
       "        text-align: right;\n",
       "    }\n",
       "</style>\n",
       "<table border=\"1\" class=\"dataframe\">\n",
       "  <thead>\n",
       "    <tr style=\"text-align: right;\">\n",
       "      <th></th>\n",
       "      <th>Unnamed: 0</th>\n",
       "      <th>location</th>\n",
       "      <th>country</th>\n",
       "      <th>gender</th>\n",
       "      <th>age</th>\n",
       "      <th>vis_wuhan</th>\n",
       "      <th>from_wuhan</th>\n",
       "      <th>symptom1</th>\n",
       "      <th>symptom2</th>\n",
       "      <th>symptom3</th>\n",
       "      <th>symptom4</th>\n",
       "      <th>symptom5</th>\n",
       "      <th>symptom6</th>\n",
       "      <th>diff_sym_hos</th>\n",
       "      <th>result</th>\n",
       "    </tr>\n",
       "  </thead>\n",
       "  <tbody>\n",
       "    <tr>\n",
       "      <th>0</th>\n",
       "      <td>0</td>\n",
       "      <td>104</td>\n",
       "      <td>8</td>\n",
       "      <td>1</td>\n",
       "      <td>66.0</td>\n",
       "      <td>1</td>\n",
       "      <td>0</td>\n",
       "      <td>14</td>\n",
       "      <td>31</td>\n",
       "      <td>19</td>\n",
       "      <td>12</td>\n",
       "      <td>3</td>\n",
       "      <td>1</td>\n",
       "      <td>8</td>\n",
       "      <td>1</td>\n",
       "    </tr>\n",
       "    <tr>\n",
       "      <th>1</th>\n",
       "      <td>1</td>\n",
       "      <td>101</td>\n",
       "      <td>8</td>\n",
       "      <td>0</td>\n",
       "      <td>56.0</td>\n",
       "      <td>0</td>\n",
       "      <td>1</td>\n",
       "      <td>14</td>\n",
       "      <td>31</td>\n",
       "      <td>19</td>\n",
       "      <td>12</td>\n",
       "      <td>3</td>\n",
       "      <td>1</td>\n",
       "      <td>0</td>\n",
       "      <td>0</td>\n",
       "    </tr>\n",
       "    <tr>\n",
       "      <th>2</th>\n",
       "      <td>2</td>\n",
       "      <td>137</td>\n",
       "      <td>8</td>\n",
       "      <td>1</td>\n",
       "      <td>46.0</td>\n",
       "      <td>0</td>\n",
       "      <td>1</td>\n",
       "      <td>14</td>\n",
       "      <td>31</td>\n",
       "      <td>19</td>\n",
       "      <td>12</td>\n",
       "      <td>3</td>\n",
       "      <td>1</td>\n",
       "      <td>13</td>\n",
       "      <td>0</td>\n",
       "    </tr>\n",
       "    <tr>\n",
       "      <th>3</th>\n",
       "      <td>3</td>\n",
       "      <td>116</td>\n",
       "      <td>8</td>\n",
       "      <td>0</td>\n",
       "      <td>60.0</td>\n",
       "      <td>1</td>\n",
       "      <td>0</td>\n",
       "      <td>14</td>\n",
       "      <td>31</td>\n",
       "      <td>19</td>\n",
       "      <td>12</td>\n",
       "      <td>3</td>\n",
       "      <td>1</td>\n",
       "      <td>0</td>\n",
       "      <td>0</td>\n",
       "    </tr>\n",
       "    <tr>\n",
       "      <th>4</th>\n",
       "      <td>4</td>\n",
       "      <td>116</td>\n",
       "      <td>8</td>\n",
       "      <td>1</td>\n",
       "      <td>58.0</td>\n",
       "      <td>0</td>\n",
       "      <td>0</td>\n",
       "      <td>14</td>\n",
       "      <td>31</td>\n",
       "      <td>19</td>\n",
       "      <td>12</td>\n",
       "      <td>3</td>\n",
       "      <td>1</td>\n",
       "      <td>0</td>\n",
       "      <td>0</td>\n",
       "    </tr>\n",
       "  </tbody>\n",
       "</table>\n",
       "</div>"
      ],
      "text/plain": [
       "   Unnamed: 0  location  country  gender   age  vis_wuhan  from_wuhan  \\\n",
       "0           0       104        8       1  66.0          1           0   \n",
       "1           1       101        8       0  56.0          0           1   \n",
       "2           2       137        8       1  46.0          0           1   \n",
       "3           3       116        8       0  60.0          1           0   \n",
       "4           4       116        8       1  58.0          0           0   \n",
       "\n",
       "   symptom1  symptom2  symptom3  symptom4  symptom5  symptom6  diff_sym_hos  \\\n",
       "0        14        31        19        12         3         1             8   \n",
       "1        14        31        19        12         3         1             0   \n",
       "2        14        31        19        12         3         1            13   \n",
       "3        14        31        19        12         3         1             0   \n",
       "4        14        31        19        12         3         1             0   \n",
       "\n",
       "   result  \n",
       "0       1  \n",
       "1       0  \n",
       "2       0  \n",
       "3       0  \n",
       "4       0  "
      ]
     },
     "execution_count": 4,
     "metadata": {},
     "output_type": "execute_result"
    }
   ],
   "source": [
    "dataset.head()"
   ]
  },
  {
   "cell_type": "code",
   "execution_count": 5,
   "id": "246743bb",
   "metadata": {},
   "outputs": [],
   "source": [
    "dataset.drop('Unnamed: 0',axis=1,inplace=True)"
   ]
  },
  {
   "cell_type": "code",
   "execution_count": 6,
   "id": "09184ef6",
   "metadata": {},
   "outputs": [
    {
     "data": {
      "text/plain": [
       "(863, 14)"
      ]
     },
     "execution_count": 6,
     "metadata": {},
     "output_type": "execute_result"
    }
   ],
   "source": [
    "dataset.shape"
   ]
  },
  {
   "cell_type": "code",
   "execution_count": 7,
   "id": "79bdfdb4",
   "metadata": {},
   "outputs": [
    {
     "data": {
      "text/html": [
       "<div>\n",
       "<style scoped>\n",
       "    .dataframe tbody tr th:only-of-type {\n",
       "        vertical-align: middle;\n",
       "    }\n",
       "\n",
       "    .dataframe tbody tr th {\n",
       "        vertical-align: top;\n",
       "    }\n",
       "\n",
       "    .dataframe thead th {\n",
       "        text-align: right;\n",
       "    }\n",
       "</style>\n",
       "<table border=\"1\" class=\"dataframe\">\n",
       "  <thead>\n",
       "    <tr style=\"text-align: right;\">\n",
       "      <th></th>\n",
       "      <th>location</th>\n",
       "      <th>country</th>\n",
       "      <th>gender</th>\n",
       "      <th>age</th>\n",
       "      <th>vis_wuhan</th>\n",
       "      <th>from_wuhan</th>\n",
       "      <th>symptom1</th>\n",
       "      <th>symptom2</th>\n",
       "      <th>symptom3</th>\n",
       "      <th>symptom4</th>\n",
       "      <th>symptom5</th>\n",
       "      <th>symptom6</th>\n",
       "      <th>diff_sym_hos</th>\n",
       "    </tr>\n",
       "  </thead>\n",
       "  <tbody>\n",
       "    <tr>\n",
       "      <th>0</th>\n",
       "      <td>104</td>\n",
       "      <td>8</td>\n",
       "      <td>1</td>\n",
       "      <td>66.0</td>\n",
       "      <td>1</td>\n",
       "      <td>0</td>\n",
       "      <td>14</td>\n",
       "      <td>31</td>\n",
       "      <td>19</td>\n",
       "      <td>12</td>\n",
       "      <td>3</td>\n",
       "      <td>1</td>\n",
       "      <td>8</td>\n",
       "    </tr>\n",
       "    <tr>\n",
       "      <th>1</th>\n",
       "      <td>101</td>\n",
       "      <td>8</td>\n",
       "      <td>0</td>\n",
       "      <td>56.0</td>\n",
       "      <td>0</td>\n",
       "      <td>1</td>\n",
       "      <td>14</td>\n",
       "      <td>31</td>\n",
       "      <td>19</td>\n",
       "      <td>12</td>\n",
       "      <td>3</td>\n",
       "      <td>1</td>\n",
       "      <td>0</td>\n",
       "    </tr>\n",
       "    <tr>\n",
       "      <th>2</th>\n",
       "      <td>137</td>\n",
       "      <td>8</td>\n",
       "      <td>1</td>\n",
       "      <td>46.0</td>\n",
       "      <td>0</td>\n",
       "      <td>1</td>\n",
       "      <td>14</td>\n",
       "      <td>31</td>\n",
       "      <td>19</td>\n",
       "      <td>12</td>\n",
       "      <td>3</td>\n",
       "      <td>1</td>\n",
       "      <td>13</td>\n",
       "    </tr>\n",
       "    <tr>\n",
       "      <th>3</th>\n",
       "      <td>116</td>\n",
       "      <td>8</td>\n",
       "      <td>0</td>\n",
       "      <td>60.0</td>\n",
       "      <td>1</td>\n",
       "      <td>0</td>\n",
       "      <td>14</td>\n",
       "      <td>31</td>\n",
       "      <td>19</td>\n",
       "      <td>12</td>\n",
       "      <td>3</td>\n",
       "      <td>1</td>\n",
       "      <td>0</td>\n",
       "    </tr>\n",
       "    <tr>\n",
       "      <th>4</th>\n",
       "      <td>116</td>\n",
       "      <td>8</td>\n",
       "      <td>1</td>\n",
       "      <td>58.0</td>\n",
       "      <td>0</td>\n",
       "      <td>0</td>\n",
       "      <td>14</td>\n",
       "      <td>31</td>\n",
       "      <td>19</td>\n",
       "      <td>12</td>\n",
       "      <td>3</td>\n",
       "      <td>1</td>\n",
       "      <td>0</td>\n",
       "    </tr>\n",
       "  </tbody>\n",
       "</table>\n",
       "</div>"
      ],
      "text/plain": [
       "   location  country  gender   age  vis_wuhan  from_wuhan  symptom1  symptom2  \\\n",
       "0       104        8       1  66.0          1           0        14        31   \n",
       "1       101        8       0  56.0          0           1        14        31   \n",
       "2       137        8       1  46.0          0           1        14        31   \n",
       "3       116        8       0  60.0          1           0        14        31   \n",
       "4       116        8       1  58.0          0           0        14        31   \n",
       "\n",
       "   symptom3  symptom4  symptom5  symptom6  diff_sym_hos  \n",
       "0        19        12         3         1             8  \n",
       "1        19        12         3         1             0  \n",
       "2        19        12         3         1            13  \n",
       "3        19        12         3         1             0  \n",
       "4        19        12         3         1             0  "
      ]
     },
     "execution_count": 7,
     "metadata": {},
     "output_type": "execute_result"
    }
   ],
   "source": [
    "x_data=dataset[['location', 'country', 'gender', 'age', 'vis_wuhan', 'from_wuhan',\n",
    "       'symptom1', 'symptom2', 'symptom3', 'symptom4', 'symptom5', 'symptom6',\n",
    "       'diff_sym_hos']]\n",
    "x_data.head()"
   ]
  },
  {
   "cell_type": "code",
   "execution_count": 8,
   "id": "66a9134c",
   "metadata": {},
   "outputs": [
    {
     "data": {
      "text/html": [
       "<div>\n",
       "<style scoped>\n",
       "    .dataframe tbody tr th:only-of-type {\n",
       "        vertical-align: middle;\n",
       "    }\n",
       "\n",
       "    .dataframe tbody tr th {\n",
       "        vertical-align: top;\n",
       "    }\n",
       "\n",
       "    .dataframe thead th {\n",
       "        text-align: right;\n",
       "    }\n",
       "</style>\n",
       "<table border=\"1\" class=\"dataframe\">\n",
       "  <thead>\n",
       "    <tr style=\"text-align: right;\">\n",
       "      <th></th>\n",
       "      <th>result</th>\n",
       "    </tr>\n",
       "  </thead>\n",
       "  <tbody>\n",
       "    <tr>\n",
       "      <th>0</th>\n",
       "      <td>1</td>\n",
       "    </tr>\n",
       "    <tr>\n",
       "      <th>1</th>\n",
       "      <td>0</td>\n",
       "    </tr>\n",
       "    <tr>\n",
       "      <th>2</th>\n",
       "      <td>0</td>\n",
       "    </tr>\n",
       "    <tr>\n",
       "      <th>3</th>\n",
       "      <td>0</td>\n",
       "    </tr>\n",
       "    <tr>\n",
       "      <th>4</th>\n",
       "      <td>0</td>\n",
       "    </tr>\n",
       "    <tr>\n",
       "      <th>...</th>\n",
       "      <td>...</td>\n",
       "    </tr>\n",
       "    <tr>\n",
       "      <th>858</th>\n",
       "      <td>1</td>\n",
       "    </tr>\n",
       "    <tr>\n",
       "      <th>859</th>\n",
       "      <td>0</td>\n",
       "    </tr>\n",
       "    <tr>\n",
       "      <th>860</th>\n",
       "      <td>0</td>\n",
       "    </tr>\n",
       "    <tr>\n",
       "      <th>861</th>\n",
       "      <td>0</td>\n",
       "    </tr>\n",
       "    <tr>\n",
       "      <th>862</th>\n",
       "      <td>0</td>\n",
       "    </tr>\n",
       "  </tbody>\n",
       "</table>\n",
       "<p>863 rows × 1 columns</p>\n",
       "</div>"
      ],
      "text/plain": [
       "     result\n",
       "0         1\n",
       "1         0\n",
       "2         0\n",
       "3         0\n",
       "4         0\n",
       "..      ...\n",
       "858       1\n",
       "859       0\n",
       "860       0\n",
       "861       0\n",
       "862       0\n",
       "\n",
       "[863 rows x 1 columns]"
      ]
     },
     "execution_count": 8,
     "metadata": {},
     "output_type": "execute_result"
    }
   ],
   "source": [
    "y_data=dataset[['result']]\n",
    "y_data"
   ]
  },
  {
   "cell_type": "code",
   "execution_count": 9,
   "id": "91db148a",
   "metadata": {},
   "outputs": [],
   "source": [
    "labels=['0-20', '20-40', '40-60', '60+']\n",
    "bins=[0,20,40,60,float('inf')]"
   ]
  },
  {
   "cell_type": "code",
   "execution_count": 10,
   "id": "834af836",
   "metadata": {},
   "outputs": [],
   "source": [
    "df = pd.DataFrame({})"
   ]
  },
  {
   "cell_type": "code",
   "execution_count": 11,
   "id": "af9503d7",
   "metadata": {},
   "outputs": [],
   "source": [
    "df['age_groups']=pd.cut(dataset['age'],bins=bins,labels=['0-20', '20-40', '40-60', '60+'])"
   ]
  },
  {
   "cell_type": "code",
   "execution_count": 12,
   "id": "b64ee2b5",
   "metadata": {},
   "outputs": [
    {
     "data": {
      "text/plain": [
       "Text(0.5, 1.0, 'age groups bins')"
      ]
     },
     "execution_count": 12,
     "metadata": {},
     "output_type": "execute_result"
    },
    {
     "data": {
      "image/png": "[encoded data removed]",
      "text/plain": [
       "<Figure size 432x288 with 1 Axes>"
      ]
     },
     "metadata": {
      "needs_background": "light"
     },
     "output_type": "display_data"
    }
   ],
   "source": [
    "plt.bar(labels,df['age_groups'].value_counts())\n",
    "plt.xlabel(\"age groups\")\n",
    "plt.ylabel(\"counts\")\n",
    "plt.title(\"age groups bins\")"
   ]
  },
  {
   "cell_type": "code",
   "execution_count": 13,
   "id": "158dfe9f",
   "metadata": {},
   "outputs": [],
   "source": [
    "from sklearn.preprocessing import StandardScaler"
   ]
  },
  {
   "cell_type": "code",
   "execution_count": 14,
   "id": "eb32fc7b",
   "metadata": {},
   "outputs": [],
   "source": [
    "scaler = StandardScaler()"
   ]
  },
  {
   "cell_type": "code",
   "execution_count": 15,
   "id": "5eec3fce",
   "metadata": {},
   "outputs": [],
   "source": [
    "x_data=scaler.fit_transform(x_data)"
   ]
  },
  {
   "cell_type": "code",
   "execution_count": 16,
   "id": "ba4ab84c",
   "metadata": {},
   "outputs": [],
   "source": [
    "x_data=pd.DataFrame(x_data)"
   ]
  },
  {
   "cell_type": "code",
   "execution_count": 17,
   "id": "f04fd5d7",
   "metadata": {},
   "outputs": [
    {
     "data": {
      "text/html": [
       "<div>\n",
       "<style scoped>\n",
       "    .dataframe tbody tr th:only-of-type {\n",
       "        vertical-align: middle;\n",
       "    }\n",
       "\n",
       "    .dataframe tbody tr th {\n",
       "        vertical-align: top;\n",
       "    }\n",
       "\n",
       "    .dataframe thead th {\n",
       "        text-align: right;\n",
       "    }\n",
       "</style>\n",
       "<table border=\"1\" class=\"dataframe\">\n",
       "  <thead>\n",
       "    <tr style=\"text-align: right;\">\n",
       "      <th></th>\n",
       "      <th>0</th>\n",
       "      <th>1</th>\n",
       "      <th>2</th>\n",
       "      <th>3</th>\n",
       "      <th>4</th>\n",
       "      <th>5</th>\n",
       "      <th>6</th>\n",
       "      <th>7</th>\n",
       "      <th>8</th>\n",
       "      <th>9</th>\n",
       "      <th>10</th>\n",
       "      <th>11</th>\n",
       "      <th>12</th>\n",
       "    </tr>\n",
       "  </thead>\n",
       "  <tbody>\n",
       "    <tr>\n",
       "      <th>0</th>\n",
       "      <td>0.698221</td>\n",
       "      <td>-1.15245</td>\n",
       "      <td>0.207592</td>\n",
       "      <td>1.101492</td>\n",
       "      <td>2.120570</td>\n",
       "      <td>-0.347533</td>\n",
       "      <td>0.465755</td>\n",
       "      <td>0.401355</td>\n",
       "      <td>0.244914</td>\n",
       "      <td>0.135161</td>\n",
       "      <td>0.054668</td>\n",
       "      <td>0.03406</td>\n",
       "      <td>2.971339</td>\n",
       "    </tr>\n",
       "    <tr>\n",
       "      <th>1</th>\n",
       "      <td>0.621646</td>\n",
       "      <td>-1.15245</td>\n",
       "      <td>-1.170499</td>\n",
       "      <td>0.437943</td>\n",
       "      <td>-0.471571</td>\n",
       "      <td>2.877424</td>\n",
       "      <td>0.465755</td>\n",
       "      <td>0.401355</td>\n",
       "      <td>0.244914</td>\n",
       "      <td>0.135161</td>\n",
       "      <td>0.054668</td>\n",
       "      <td>0.03406</td>\n",
       "      <td>-0.422230</td>\n",
       "    </tr>\n",
       "    <tr>\n",
       "      <th>2</th>\n",
       "      <td>1.540540</td>\n",
       "      <td>-1.15245</td>\n",
       "      <td>0.207592</td>\n",
       "      <td>-0.225607</td>\n",
       "      <td>-0.471571</td>\n",
       "      <td>2.877424</td>\n",
       "      <td>0.465755</td>\n",
       "      <td>0.401355</td>\n",
       "      <td>0.244914</td>\n",
       "      <td>0.135161</td>\n",
       "      <td>0.054668</td>\n",
       "      <td>0.03406</td>\n",
       "      <td>5.092319</td>\n",
       "    </tr>\n",
       "    <tr>\n",
       "      <th>3</th>\n",
       "      <td>1.004519</td>\n",
       "      <td>-1.15245</td>\n",
       "      <td>-1.170499</td>\n",
       "      <td>0.703363</td>\n",
       "      <td>2.120570</td>\n",
       "      <td>-0.347533</td>\n",
       "      <td>0.465755</td>\n",
       "      <td>0.401355</td>\n",
       "      <td>0.244914</td>\n",
       "      <td>0.135161</td>\n",
       "      <td>0.054668</td>\n",
       "      <td>0.03406</td>\n",
       "      <td>-0.422230</td>\n",
       "    </tr>\n",
       "    <tr>\n",
       "      <th>4</th>\n",
       "      <td>1.004519</td>\n",
       "      <td>-1.15245</td>\n",
       "      <td>0.207592</td>\n",
       "      <td>0.570653</td>\n",
       "      <td>-0.471571</td>\n",
       "      <td>-0.347533</td>\n",
       "      <td>0.465755</td>\n",
       "      <td>0.401355</td>\n",
       "      <td>0.244914</td>\n",
       "      <td>0.135161</td>\n",
       "      <td>0.054668</td>\n",
       "      <td>0.03406</td>\n",
       "      <td>-0.422230</td>\n",
       "    </tr>\n",
       "  </tbody>\n",
       "</table>\n",
       "</div>"
      ],
      "text/plain": [
       "         0        1         2         3         4         5         6   \\\n",
       "0  0.698221 -1.15245  0.207592  1.101492  2.120570 -0.347533  0.465755   \n",
       "1  0.621646 -1.15245 -1.170499  0.437943 -0.471571  2.877424  0.465755   \n",
       "2  1.540540 -1.15245  0.207592 -0.225607 -0.471571  2.877424  0.465755   \n",
       "3  1.004519 -1.15245 -1.170499  0.703363  2.120570 -0.347533  0.465755   \n",
       "4  1.004519 -1.15245  0.207592  0.570653 -0.471571 -0.347533  0.465755   \n",
       "\n",
       "         7         8         9         10       11        12  \n",
       "0  0.401355  0.244914  0.135161  0.054668  0.03406  2.971339  \n",
       "1  0.401355  0.244914  0.135161  0.054668  0.03406 -0.422230  \n",
       "2  0.401355  0.244914  0.135161  0.054668  0.03406  5.092319  \n",
       "3  0.401355  0.244914  0.135161  0.054668  0.03406 -0.422230  \n",
       "4  0.401355  0.244914  0.135161  0.054668  0.03406 -0.422230  "
      ]
     },
     "execution_count": 17,
     "metadata": {},
     "output_type": "execute_result"
    }
   ],
   "source": [
    "x_data.head()"
   ]
  },
  {
   "cell_type": "code",
   "execution_count": 18,
   "id": "e929fc9b",
   "metadata": {},
   "outputs": [],
   "source": [
    "x_data.columns=['location', 'country', 'gender', 'age', 'vis_wuhan', 'from_wuhan',\n",
    "       'symptom1', 'symptom2', 'symptom3', 'symptom4', 'symptom5', 'symptom6',\n",
    "       'diff_sym_hos']"
   ]
  },
  {
   "cell_type": "code",
   "execution_count": 19,
   "id": "74ccd462",
   "metadata": {},
   "outputs": [
    {
     "data": {
      "text/html": [
       "<div>\n",
       "<style scoped>\n",
       "    .dataframe tbody tr th:only-of-type {\n",
       "        vertical-align: middle;\n",
       "    }\n",
       "\n",
       "    .dataframe tbody tr th {\n",
       "        vertical-align: top;\n",
       "    }\n",
       "\n",
       "    .dataframe thead th {\n",
       "        text-align: right;\n",
       "    }\n",
       "</style>\n",
       "<table border=\"1\" class=\"dataframe\">\n",
       "  <thead>\n",
       "    <tr style=\"text-align: right;\">\n",
       "      <th></th>\n",
       "      <th>location</th>\n",
       "      <th>country</th>\n",
       "      <th>gender</th>\n",
       "      <th>age</th>\n",
       "      <th>vis_wuhan</th>\n",
       "      <th>from_wuhan</th>\n",
       "      <th>symptom1</th>\n",
       "      <th>symptom2</th>\n",
       "      <th>symptom3</th>\n",
       "      <th>symptom4</th>\n",
       "      <th>symptom5</th>\n",
       "      <th>symptom6</th>\n",
       "      <th>diff_sym_hos</th>\n",
       "    </tr>\n",
       "  </thead>\n",
       "  <tbody>\n",
       "    <tr>\n",
       "      <th>0</th>\n",
       "      <td>0.698221</td>\n",
       "      <td>-1.15245</td>\n",
       "      <td>0.207592</td>\n",
       "      <td>1.101492</td>\n",
       "      <td>2.120570</td>\n",
       "      <td>-0.347533</td>\n",
       "      <td>0.465755</td>\n",
       "      <td>0.401355</td>\n",
       "      <td>0.244914</td>\n",
       "      <td>0.135161</td>\n",
       "      <td>0.054668</td>\n",
       "      <td>0.03406</td>\n",
       "      <td>2.971339</td>\n",
       "    </tr>\n",
       "    <tr>\n",
       "      <th>1</th>\n",
       "      <td>0.621646</td>\n",
       "      <td>-1.15245</td>\n",
       "      <td>-1.170499</td>\n",
       "      <td>0.437943</td>\n",
       "      <td>-0.471571</td>\n",
       "      <td>2.877424</td>\n",
       "      <td>0.465755</td>\n",
       "      <td>0.401355</td>\n",
       "      <td>0.244914</td>\n",
       "      <td>0.135161</td>\n",
       "      <td>0.054668</td>\n",
       "      <td>0.03406</td>\n",
       "      <td>-0.422230</td>\n",
       "    </tr>\n",
       "    <tr>\n",
       "      <th>2</th>\n",
       "      <td>1.540540</td>\n",
       "      <td>-1.15245</td>\n",
       "      <td>0.207592</td>\n",
       "      <td>-0.225607</td>\n",
       "      <td>-0.471571</td>\n",
       "      <td>2.877424</td>\n",
       "      <td>0.465755</td>\n",
       "      <td>0.401355</td>\n",
       "      <td>0.244914</td>\n",
       "      <td>0.135161</td>\n",
       "      <td>0.054668</td>\n",
       "      <td>0.03406</td>\n",
       "      <td>5.092319</td>\n",
       "    </tr>\n",
       "    <tr>\n",
       "      <th>3</th>\n",
       "      <td>1.004519</td>\n",
       "      <td>-1.15245</td>\n",
       "      <td>-1.170499</td>\n",
       "      <td>0.703363</td>\n",
       "      <td>2.120570</td>\n",
       "      <td>-0.347533</td>\n",
       "      <td>0.465755</td>\n",
       "      <td>0.401355</td>\n",
       "      <td>0.244914</td>\n",
       "      <td>0.135161</td>\n",
       "      <td>0.054668</td>\n",
       "      <td>0.03406</td>\n",
       "      <td>-0.422230</td>\n",
       "    </tr>\n",
       "    <tr>\n",
       "      <th>4</th>\n",
       "      <td>1.004519</td>\n",
       "      <td>-1.15245</td>\n",
       "      <td>0.207592</td>\n",
       "      <td>0.570653</td>\n",
       "      <td>-0.471571</td>\n",
       "      <td>-0.347533</td>\n",
       "      <td>0.465755</td>\n",
       "      <td>0.401355</td>\n",
       "      <td>0.244914</td>\n",
       "      <td>0.135161</td>\n",
       "      <td>0.054668</td>\n",
       "      <td>0.03406</td>\n",
       "      <td>-0.422230</td>\n",
       "    </tr>\n",
       "  </tbody>\n",
       "</table>\n",
       "</div>"
      ],
      "text/plain": [
       "   location  country    gender       age  vis_wuhan  from_wuhan  symptom1  \\\n",
       "0  0.698221 -1.15245  0.207592  1.101492   2.120570   -0.347533  0.465755   \n",
       "1  0.621646 -1.15245 -1.170499  0.437943  -0.471571    2.877424  0.465755   \n",
       "2  1.540540 -1.15245  0.207592 -0.225607  -0.471571    2.877424  0.465755   \n",
       "3  1.004519 -1.15245 -1.170499  0.703363   2.120570   -0.347533  0.465755   \n",
       "4  1.004519 -1.15245  0.207592  0.570653  -0.471571   -0.347533  0.465755   \n",
       "\n",
       "   symptom2  symptom3  symptom4  symptom5  symptom6  diff_sym_hos  \n",
       "0  0.401355  0.244914  0.135161  0.054668   0.03406      2.971339  \n",
       "1  0.401355  0.244914  0.135161  0.054668   0.03406     -0.422230  \n",
       "2  0.401355  0.244914  0.135161  0.054668   0.03406      5.092319  \n",
       "3  0.401355  0.244914  0.135161  0.054668   0.03406     -0.422230  \n",
       "4  0.401355  0.244914  0.135161  0.054668   0.03406     -0.422230  "
      ]
     },
     "execution_count": 19,
     "metadata": {},
     "output_type": "execute_result"
    }
   ],
   "source": [
    "x_data.head()"
   ]
  },
  {
   "cell_type": "code",
   "execution_count": 20,
   "id": "e29e0d1e",
   "metadata": {},
   "outputs": [],
   "source": [
    "x_train,x_test,y_train,y_test=train_test_split(x_data,y_data,test_size=0.1,random_state=None)"
   ]
  },
  {
   "cell_type": "code",
   "execution_count": 21,
   "id": "7ca59a39",
   "metadata": {},
   "outputs": [],
   "source": [
    "x_train,x_val,y_train,y_val=train_test_split(x_train,y_train,test_size=0.111,random_state=None)"
   ]
  },
  {
   "cell_type": "code",
   "execution_count": 22,
   "id": "4c84eb73",
   "metadata": {},
   "outputs": [
    {
     "name": "stdout",
     "output_type": "stream",
     "text": [
      "(87, 13)\n",
      "(689, 13)\n",
      "(87, 13)\n"
     ]
    }
   ],
   "source": [
    "print(x_test.shape)\n",
    "print(x_train.shape)\n",
    "print(x_val.shape)"
   ]
  },
  {
   "cell_type": "code",
   "execution_count": 23,
   "id": "6af90714",
   "metadata": {
    "scrolled": true
   },
   "outputs": [
    {
     "data": {
      "text/html": [
       "<div>\n",
       "<style scoped>\n",
       "    .dataframe tbody tr th:only-of-type {\n",
       "        vertical-align: middle;\n",
       "    }\n",
       "\n",
       "    .dataframe tbody tr th {\n",
       "        vertical-align: top;\n",
       "    }\n",
       "\n",
       "    .dataframe thead th {\n",
       "        text-align: right;\n",
       "    }\n",
       "</style>\n",
       "<table border=\"1\" class=\"dataframe\">\n",
       "  <thead>\n",
       "    <tr style=\"text-align: right;\">\n",
       "      <th></th>\n",
       "      <th>location</th>\n",
       "      <th>country</th>\n",
       "      <th>gender</th>\n",
       "      <th>age</th>\n",
       "      <th>vis_wuhan</th>\n",
       "      <th>from_wuhan</th>\n",
       "      <th>symptom1</th>\n",
       "      <th>symptom2</th>\n",
       "      <th>symptom3</th>\n",
       "      <th>symptom4</th>\n",
       "      <th>symptom5</th>\n",
       "      <th>symptom6</th>\n",
       "      <th>diff_sym_hos</th>\n",
       "    </tr>\n",
       "  </thead>\n",
       "  <tbody>\n",
       "    <tr>\n",
       "      <th>742</th>\n",
       "      <td>-0.807744</td>\n",
       "      <td>-0.511870</td>\n",
       "      <td>-1.170499</td>\n",
       "      <td>1.234202</td>\n",
       "      <td>-0.471571</td>\n",
       "      <td>-0.347533</td>\n",
       "      <td>0.465755</td>\n",
       "      <td>0.401355</td>\n",
       "      <td>0.244914</td>\n",
       "      <td>0.135161</td>\n",
       "      <td>0.054668</td>\n",
       "      <td>0.03406</td>\n",
       "      <td>1.274554</td>\n",
       "    </tr>\n",
       "    <tr>\n",
       "      <th>701</th>\n",
       "      <td>-0.807744</td>\n",
       "      <td>-0.511870</td>\n",
       "      <td>0.207592</td>\n",
       "      <td>-1.751771</td>\n",
       "      <td>-0.471571</td>\n",
       "      <td>-0.347533</td>\n",
       "      <td>0.465755</td>\n",
       "      <td>0.401355</td>\n",
       "      <td>0.244914</td>\n",
       "      <td>0.135161</td>\n",
       "      <td>0.054668</td>\n",
       "      <td>0.03406</td>\n",
       "      <td>-0.422230</td>\n",
       "    </tr>\n",
       "    <tr>\n",
       "      <th>54</th>\n",
       "      <td>-1.062992</td>\n",
       "      <td>-1.152450</td>\n",
       "      <td>-1.170499</td>\n",
       "      <td>0.039813</td>\n",
       "      <td>-0.471571</td>\n",
       "      <td>-0.347533</td>\n",
       "      <td>0.465755</td>\n",
       "      <td>0.401355</td>\n",
       "      <td>0.244914</td>\n",
       "      <td>0.135161</td>\n",
       "      <td>0.054668</td>\n",
       "      <td>0.03406</td>\n",
       "      <td>2.971339</td>\n",
       "    </tr>\n",
       "    <tr>\n",
       "      <th>454</th>\n",
       "      <td>0.800320</td>\n",
       "      <td>0.897406</td>\n",
       "      <td>-1.170499</td>\n",
       "      <td>-1.021866</td>\n",
       "      <td>-0.471571</td>\n",
       "      <td>-0.347533</td>\n",
       "      <td>0.465755</td>\n",
       "      <td>0.401355</td>\n",
       "      <td>0.244914</td>\n",
       "      <td>0.135161</td>\n",
       "      <td>0.054668</td>\n",
       "      <td>0.03406</td>\n",
       "      <td>-0.422230</td>\n",
       "    </tr>\n",
       "    <tr>\n",
       "      <th>822</th>\n",
       "      <td>0.366398</td>\n",
       "      <td>-0.255638</td>\n",
       "      <td>1.585683</td>\n",
       "      <td>0.000000</td>\n",
       "      <td>-0.471571</td>\n",
       "      <td>-0.347533</td>\n",
       "      <td>0.465755</td>\n",
       "      <td>0.401355</td>\n",
       "      <td>0.244914</td>\n",
       "      <td>0.135161</td>\n",
       "      <td>0.054668</td>\n",
       "      <td>0.03406</td>\n",
       "      <td>-0.422230</td>\n",
       "    </tr>\n",
       "  </tbody>\n",
       "</table>\n",
       "</div>"
      ],
      "text/plain": [
       "     location   country    gender       age  vis_wuhan  from_wuhan  symptom1  \\\n",
       "742 -0.807744 -0.511870 -1.170499  1.234202  -0.471571   -0.347533  0.465755   \n",
       "701 -0.807744 -0.511870  0.207592 -1.751771  -0.471571   -0.347533  0.465755   \n",
       "54  -1.062992 -1.152450 -1.170499  0.039813  -0.471571   -0.347533  0.465755   \n",
       "454  0.800320  0.897406 -1.170499 -1.021866  -0.471571   -0.347533  0.465755   \n",
       "822  0.366398 -0.255638  1.585683  0.000000  -0.471571   -0.347533  0.465755   \n",
       "\n",
       "     symptom2  symptom3  symptom4  symptom5  symptom6  diff_sym_hos  \n",
       "742  0.401355  0.244914  0.135161  0.054668   0.03406      1.274554  \n",
       "701  0.401355  0.244914  0.135161  0.054668   0.03406     -0.422230  \n",
       "54   0.401355  0.244914  0.135161  0.054668   0.03406      2.971339  \n",
       "454  0.401355  0.244914  0.135161  0.054668   0.03406     -0.422230  \n",
       "822  0.401355  0.244914  0.135161  0.054668   0.03406     -0.422230  "
      ]
     },
     "execution_count": 23,
     "metadata": {},
     "output_type": "execute_result"
    }
   ],
   "source": [
    "x_train.head()"
   ]
  },
  {
   "cell_type": "code",
   "execution_count": 24,
   "id": "abf3b059",
   "metadata": {},
   "outputs": [
    {
     "data": {
      "text/html": [
       "<div>\n",
       "<style scoped>\n",
       "    .dataframe tbody tr th:only-of-type {\n",
       "        vertical-align: middle;\n",
       "    }\n",
       "\n",
       "    .dataframe tbody tr th {\n",
       "        vertical-align: top;\n",
       "    }\n",
       "\n",
       "    .dataframe thead th {\n",
       "        text-align: right;\n",
       "    }\n",
       "</style>\n",
       "<table border=\"1\" class=\"dataframe\">\n",
       "  <thead>\n",
       "    <tr style=\"text-align: right;\">\n",
       "      <th></th>\n",
       "      <th>location</th>\n",
       "      <th>country</th>\n",
       "      <th>gender</th>\n",
       "      <th>age</th>\n",
       "      <th>vis_wuhan</th>\n",
       "      <th>from_wuhan</th>\n",
       "      <th>symptom1</th>\n",
       "      <th>symptom2</th>\n",
       "      <th>symptom3</th>\n",
       "      <th>symptom4</th>\n",
       "      <th>symptom5</th>\n",
       "      <th>symptom6</th>\n",
       "      <th>diff_sym_hos</th>\n",
       "    </tr>\n",
       "  </thead>\n",
       "  <tbody>\n",
       "    <tr>\n",
       "      <th>275</th>\n",
       "      <td>-0.833269</td>\n",
       "      <td>0.128710</td>\n",
       "      <td>-1.170499</td>\n",
       "      <td>0.371588</td>\n",
       "      <td>-0.471571</td>\n",
       "      <td>-0.347533</td>\n",
       "      <td>-2.037027</td>\n",
       "      <td>-1.473084</td>\n",
       "      <td>-4.296722</td>\n",
       "      <td>0.135161</td>\n",
       "      <td>0.054668</td>\n",
       "      <td>0.03406</td>\n",
       "      <td>0.001966</td>\n",
       "    </tr>\n",
       "    <tr>\n",
       "      <th>516</th>\n",
       "      <td>0.953469</td>\n",
       "      <td>1.537986</td>\n",
       "      <td>-1.170499</td>\n",
       "      <td>0.769718</td>\n",
       "      <td>-0.471571</td>\n",
       "      <td>2.877424</td>\n",
       "      <td>-1.536471</td>\n",
       "      <td>-3.079746</td>\n",
       "      <td>-1.152513</td>\n",
       "      <td>-6.626821</td>\n",
       "      <td>0.054668</td>\n",
       "      <td>0.03406</td>\n",
       "      <td>0.850358</td>\n",
       "    </tr>\n",
       "    <tr>\n",
       "      <th>566</th>\n",
       "      <td>-1.471389</td>\n",
       "      <td>1.922334</td>\n",
       "      <td>1.585683</td>\n",
       "      <td>0.000000</td>\n",
       "      <td>-0.471571</td>\n",
       "      <td>-0.347533</td>\n",
       "      <td>0.465755</td>\n",
       "      <td>0.401355</td>\n",
       "      <td>0.244914</td>\n",
       "      <td>0.135161</td>\n",
       "      <td>0.054668</td>\n",
       "      <td>0.03406</td>\n",
       "      <td>-0.422230</td>\n",
       "    </tr>\n",
       "    <tr>\n",
       "      <th>289</th>\n",
       "      <td>-1.394815</td>\n",
       "      <td>0.128710</td>\n",
       "      <td>0.207592</td>\n",
       "      <td>-0.291962</td>\n",
       "      <td>-0.471571</td>\n",
       "      <td>-0.347533</td>\n",
       "      <td>-0.535358</td>\n",
       "      <td>-1.205307</td>\n",
       "      <td>-5.694149</td>\n",
       "      <td>-4.091077</td>\n",
       "      <td>0.054668</td>\n",
       "      <td>0.03406</td>\n",
       "      <td>2.122947</td>\n",
       "    </tr>\n",
       "    <tr>\n",
       "      <th>194</th>\n",
       "      <td>0.085625</td>\n",
       "      <td>0.128710</td>\n",
       "      <td>0.207592</td>\n",
       "      <td>1.035137</td>\n",
       "      <td>-0.471571</td>\n",
       "      <td>-0.347533</td>\n",
       "      <td>-2.537584</td>\n",
       "      <td>-3.079746</td>\n",
       "      <td>-3.947366</td>\n",
       "      <td>0.135161</td>\n",
       "      <td>0.054668</td>\n",
       "      <td>0.03406</td>\n",
       "      <td>0.850358</td>\n",
       "    </tr>\n",
       "  </tbody>\n",
       "</table>\n",
       "</div>"
      ],
      "text/plain": [
       "     location   country    gender       age  vis_wuhan  from_wuhan  symptom1  \\\n",
       "275 -0.833269  0.128710 -1.170499  0.371588  -0.471571   -0.347533 -2.037027   \n",
       "516  0.953469  1.537986 -1.170499  0.769718  -0.471571    2.877424 -1.536471   \n",
       "566 -1.471389  1.922334  1.585683  0.000000  -0.471571   -0.347533  0.465755   \n",
       "289 -1.394815  0.128710  0.207592 -0.291962  -0.471571   -0.347533 -0.535358   \n",
       "194  0.085625  0.128710  0.207592  1.035137  -0.471571   -0.347533 -2.537584   \n",
       "\n",
       "     symptom2  symptom3  symptom4  symptom5  symptom6  diff_sym_hos  \n",
       "275 -1.473084 -4.296722  0.135161  0.054668   0.03406      0.001966  \n",
       "516 -3.079746 -1.152513 -6.626821  0.054668   0.03406      0.850358  \n",
       "566  0.401355  0.244914  0.135161  0.054668   0.03406     -0.422230  \n",
       "289 -1.205307 -5.694149 -4.091077  0.054668   0.03406      2.122947  \n",
       "194 -3.079746 -3.947366  0.135161  0.054668   0.03406      0.850358  "
      ]
     },
     "execution_count": 24,
     "metadata": {},
     "output_type": "execute_result"
    }
   ],
   "source": [
    "x_val.head()"
   ]
  },
  {
   "cell_type": "code",
   "execution_count": 25,
   "id": "d4a01eb6",
   "metadata": {},
   "outputs": [
    {
     "data": {
      "text/html": [
       "<div>\n",
       "<style scoped>\n",
       "    .dataframe tbody tr th:only-of-type {\n",
       "        vertical-align: middle;\n",
       "    }\n",
       "\n",
       "    .dataframe tbody tr th {\n",
       "        vertical-align: top;\n",
       "    }\n",
       "\n",
       "    .dataframe thead th {\n",
       "        text-align: right;\n",
       "    }\n",
       "</style>\n",
       "<table border=\"1\" class=\"dataframe\">\n",
       "  <thead>\n",
       "    <tr style=\"text-align: right;\">\n",
       "      <th></th>\n",
       "      <th>result</th>\n",
       "    </tr>\n",
       "  </thead>\n",
       "  <tbody>\n",
       "    <tr>\n",
       "      <th>546</th>\n",
       "      <td>0</td>\n",
       "    </tr>\n",
       "    <tr>\n",
       "      <th>89</th>\n",
       "      <td>0</td>\n",
       "    </tr>\n",
       "    <tr>\n",
       "      <th>112</th>\n",
       "      <td>1</td>\n",
       "    </tr>\n",
       "    <tr>\n",
       "      <th>641</th>\n",
       "      <td>0</td>\n",
       "    </tr>\n",
       "    <tr>\n",
       "      <th>348</th>\n",
       "      <td>1</td>\n",
       "    </tr>\n",
       "  </tbody>\n",
       "</table>\n",
       "</div>"
      ],
      "text/plain": [
       "     result\n",
       "546       0\n",
       "89        0\n",
       "112       1\n",
       "641       0\n",
       "348       1"
      ]
     },
     "execution_count": 25,
     "metadata": {},
     "output_type": "execute_result"
    }
   ],
   "source": [
    "y_test.head()"
   ]
  },
  {
   "cell_type": "code",
   "execution_count": 26,
   "id": "e000d2e3",
   "metadata": {},
   "outputs": [
    {
     "data": {
      "text/html": [
       "<div>\n",
       "<style scoped>\n",
       "    .dataframe tbody tr th:only-of-type {\n",
       "        vertical-align: middle;\n",
       "    }\n",
       "\n",
       "    .dataframe tbody tr th {\n",
       "        vertical-align: top;\n",
       "    }\n",
       "\n",
       "    .dataframe thead th {\n",
       "        text-align: right;\n",
       "    }\n",
       "</style>\n",
       "<table border=\"1\" class=\"dataframe\">\n",
       "  <thead>\n",
       "    <tr style=\"text-align: right;\">\n",
       "      <th></th>\n",
       "      <th>location</th>\n",
       "      <th>country</th>\n",
       "      <th>gender</th>\n",
       "      <th>age</th>\n",
       "      <th>vis_wuhan</th>\n",
       "      <th>from_wuhan</th>\n",
       "      <th>symptom1</th>\n",
       "      <th>symptom2</th>\n",
       "      <th>symptom3</th>\n",
       "      <th>symptom4</th>\n",
       "      <th>symptom5</th>\n",
       "      <th>symptom6</th>\n",
       "      <th>diff_sym_hos</th>\n",
       "    </tr>\n",
       "  </thead>\n",
       "  <tbody>\n",
       "    <tr>\n",
       "      <th>546</th>\n",
       "      <td>0.953469</td>\n",
       "      <td>1.537986</td>\n",
       "      <td>-1.170499</td>\n",
       "      <td>0.703363</td>\n",
       "      <td>-0.471571</td>\n",
       "      <td>-0.347533</td>\n",
       "      <td>0.465755</td>\n",
       "      <td>0.401355</td>\n",
       "      <td>0.244914</td>\n",
       "      <td>0.135161</td>\n",
       "      <td>0.054668</td>\n",
       "      <td>0.03406</td>\n",
       "      <td>-0.422230</td>\n",
       "    </tr>\n",
       "    <tr>\n",
       "      <th>89</th>\n",
       "      <td>-1.165091</td>\n",
       "      <td>-1.152450</td>\n",
       "      <td>-1.170499</td>\n",
       "      <td>-1.950836</td>\n",
       "      <td>-0.471571</td>\n",
       "      <td>2.877424</td>\n",
       "      <td>0.465755</td>\n",
       "      <td>0.401355</td>\n",
       "      <td>0.244914</td>\n",
       "      <td>0.135161</td>\n",
       "      <td>0.054668</td>\n",
       "      <td>0.03406</td>\n",
       "      <td>1.698750</td>\n",
       "    </tr>\n",
       "    <tr>\n",
       "      <th>112</th>\n",
       "      <td>1.004519</td>\n",
       "      <td>-1.152450</td>\n",
       "      <td>-1.170499</td>\n",
       "      <td>1.964107</td>\n",
       "      <td>-0.471571</td>\n",
       "      <td>-0.347533</td>\n",
       "      <td>0.465755</td>\n",
       "      <td>0.401355</td>\n",
       "      <td>0.244914</td>\n",
       "      <td>0.135161</td>\n",
       "      <td>0.054668</td>\n",
       "      <td>0.03406</td>\n",
       "      <td>-0.422230</td>\n",
       "    </tr>\n",
       "    <tr>\n",
       "      <th>641</th>\n",
       "      <td>-1.726638</td>\n",
       "      <td>-0.639986</td>\n",
       "      <td>0.207592</td>\n",
       "      <td>0.000000</td>\n",
       "      <td>-0.471571</td>\n",
       "      <td>-0.347533</td>\n",
       "      <td>0.465755</td>\n",
       "      <td>0.401355</td>\n",
       "      <td>0.244914</td>\n",
       "      <td>0.135161</td>\n",
       "      <td>0.054668</td>\n",
       "      <td>0.03406</td>\n",
       "      <td>-0.422230</td>\n",
       "    </tr>\n",
       "    <tr>\n",
       "      <th>348</th>\n",
       "      <td>-0.833269</td>\n",
       "      <td>0.128710</td>\n",
       "      <td>0.207592</td>\n",
       "      <td>1.698687</td>\n",
       "      <td>-0.471571</td>\n",
       "      <td>-0.347533</td>\n",
       "      <td>-2.037027</td>\n",
       "      <td>-2.142527</td>\n",
       "      <td>0.244914</td>\n",
       "      <td>0.135161</td>\n",
       "      <td>0.054668</td>\n",
       "      <td>0.03406</td>\n",
       "      <td>1.274554</td>\n",
       "    </tr>\n",
       "  </tbody>\n",
       "</table>\n",
       "</div>"
      ],
      "text/plain": [
       "     location   country    gender       age  vis_wuhan  from_wuhan  symptom1  \\\n",
       "546  0.953469  1.537986 -1.170499  0.703363  -0.471571   -0.347533  0.465755   \n",
       "89  -1.165091 -1.152450 -1.170499 -1.950836  -0.471571    2.877424  0.465755   \n",
       "112  1.004519 -1.152450 -1.170499  1.964107  -0.471571   -0.347533  0.465755   \n",
       "641 -1.726638 -0.639986  0.207592  0.000000  -0.471571   -0.347533  0.465755   \n",
       "348 -0.833269  0.128710  0.207592  1.698687  -0.471571   -0.347533 -2.037027   \n",
       "\n",
       "     symptom2  symptom3  symptom4  symptom5  symptom6  diff_sym_hos  \n",
       "546  0.401355  0.244914  0.135161  0.054668   0.03406     -0.422230  \n",
       "89   0.401355  0.244914  0.135161  0.054668   0.03406      1.698750  \n",
       "112  0.401355  0.244914  0.135161  0.054668   0.03406     -0.422230  \n",
       "641  0.401355  0.244914  0.135161  0.054668   0.03406     -0.422230  \n",
       "348 -2.142527  0.244914  0.135161  0.054668   0.03406      1.274554  "
      ]
     },
     "execution_count": 26,
     "metadata": {},
     "output_type": "execute_result"
    }
   ],
   "source": [
    "x_test.head()"
   ]
  },
  {
   "cell_type": "code",
   "execution_count": 27,
   "id": "ebf2e29a",
   "metadata": {},
   "outputs": [
    {
     "data": {
      "text/html": [
       "<div>\n",
       "<style scoped>\n",
       "    .dataframe tbody tr th:only-of-type {\n",
       "        vertical-align: middle;\n",
       "    }\n",
       "\n",
       "    .dataframe tbody tr th {\n",
       "        vertical-align: top;\n",
       "    }\n",
       "\n",
       "    .dataframe thead th {\n",
       "        text-align: right;\n",
       "    }\n",
       "</style>\n",
       "<table border=\"1\" class=\"dataframe\">\n",
       "  <thead>\n",
       "    <tr style=\"text-align: right;\">\n",
       "      <th></th>\n",
       "      <th>location</th>\n",
       "      <th>country</th>\n",
       "      <th>gender</th>\n",
       "      <th>age</th>\n",
       "      <th>vis_wuhan</th>\n",
       "      <th>from_wuhan</th>\n",
       "      <th>symptom1</th>\n",
       "      <th>symptom2</th>\n",
       "      <th>symptom3</th>\n",
       "      <th>symptom4</th>\n",
       "      <th>symptom5</th>\n",
       "      <th>symptom6</th>\n",
       "      <th>diff_sym_hos</th>\n",
       "      <th>result</th>\n",
       "    </tr>\n",
       "  </thead>\n",
       "  <tbody>\n",
       "    <tr>\n",
       "      <th>count</th>\n",
       "      <td>863.000000</td>\n",
       "      <td>863.000000</td>\n",
       "      <td>863.000000</td>\n",
       "      <td>863.000000</td>\n",
       "      <td>863.000000</td>\n",
       "      <td>863.000000</td>\n",
       "      <td>863.00000</td>\n",
       "      <td>863.000000</td>\n",
       "      <td>863.000000</td>\n",
       "      <td>863.000000</td>\n",
       "      <td>863.000000</td>\n",
       "      <td>863.000000</td>\n",
       "      <td>863.000000</td>\n",
       "      <td>863.000000</td>\n",
       "    </tr>\n",
       "    <tr>\n",
       "      <th>mean</th>\n",
       "      <td>76.645423</td>\n",
       "      <td>16.995365</td>\n",
       "      <td>0.849363</td>\n",
       "      <td>49.400000</td>\n",
       "      <td>0.181924</td>\n",
       "      <td>0.107764</td>\n",
       "      <td>12.13905</td>\n",
       "      <td>28.002317</td>\n",
       "      <td>18.298957</td>\n",
       "      <td>11.840093</td>\n",
       "      <td>2.993048</td>\n",
       "      <td>0.998841</td>\n",
       "      <td>0.995365</td>\n",
       "      <td>0.125145</td>\n",
       "    </tr>\n",
       "    <tr>\n",
       "      <th>std</th>\n",
       "      <td>39.200264</td>\n",
       "      <td>7.809951</td>\n",
       "      <td>0.726062</td>\n",
       "      <td>15.079203</td>\n",
       "      <td>0.386005</td>\n",
       "      <td>0.310261</td>\n",
       "      <td>3.99787</td>\n",
       "      <td>7.473231</td>\n",
       "      <td>2.864064</td>\n",
       "      <td>1.183771</td>\n",
       "      <td>0.127251</td>\n",
       "      <td>0.034040</td>\n",
       "      <td>2.358767</td>\n",
       "      <td>0.331075</td>\n",
       "    </tr>\n",
       "    <tr>\n",
       "      <th>min</th>\n",
       "      <td>0.000000</td>\n",
       "      <td>0.000000</td>\n",
       "      <td>0.000000</td>\n",
       "      <td>2.000000</td>\n",
       "      <td>0.000000</td>\n",
       "      <td>0.000000</td>\n",
       "      <td>0.00000</td>\n",
       "      <td>0.000000</td>\n",
       "      <td>0.000000</td>\n",
       "      <td>0.000000</td>\n",
       "      <td>0.000000</td>\n",
       "      <td>0.000000</td>\n",
       "      <td>-5.000000</td>\n",
       "      <td>0.000000</td>\n",
       "    </tr>\n",
       "    <tr>\n",
       "      <th>25%</th>\n",
       "      <td>45.000000</td>\n",
       "      <td>11.000000</td>\n",
       "      <td>0.000000</td>\n",
       "      <td>40.000000</td>\n",
       "      <td>0.000000</td>\n",
       "      <td>0.000000</td>\n",
       "      <td>14.00000</td>\n",
       "      <td>31.000000</td>\n",
       "      <td>19.000000</td>\n",
       "      <td>12.000000</td>\n",
       "      <td>3.000000</td>\n",
       "      <td>1.000000</td>\n",
       "      <td>0.000000</td>\n",
       "      <td>0.000000</td>\n",
       "    </tr>\n",
       "    <tr>\n",
       "      <th>50%</th>\n",
       "      <td>87.000000</td>\n",
       "      <td>18.000000</td>\n",
       "      <td>1.000000</td>\n",
       "      <td>49.400000</td>\n",
       "      <td>0.000000</td>\n",
       "      <td>0.000000</td>\n",
       "      <td>14.00000</td>\n",
       "      <td>31.000000</td>\n",
       "      <td>19.000000</td>\n",
       "      <td>12.000000</td>\n",
       "      <td>3.000000</td>\n",
       "      <td>1.000000</td>\n",
       "      <td>0.000000</td>\n",
       "      <td>0.000000</td>\n",
       "    </tr>\n",
       "    <tr>\n",
       "      <th>75%</th>\n",
       "      <td>110.000000</td>\n",
       "      <td>24.000000</td>\n",
       "      <td>1.000000</td>\n",
       "      <td>57.000000</td>\n",
       "      <td>0.000000</td>\n",
       "      <td>0.000000</td>\n",
       "      <td>14.00000</td>\n",
       "      <td>31.000000</td>\n",
       "      <td>19.000000</td>\n",
       "      <td>12.000000</td>\n",
       "      <td>3.000000</td>\n",
       "      <td>1.000000</td>\n",
       "      <td>1.000000</td>\n",
       "      <td>0.000000</td>\n",
       "    </tr>\n",
       "    <tr>\n",
       "      <th>max</th>\n",
       "      <td>138.000000</td>\n",
       "      <td>33.000000</td>\n",
       "      <td>2.000000</td>\n",
       "      <td>96.000000</td>\n",
       "      <td>1.000000</td>\n",
       "      <td>1.000000</td>\n",
       "      <td>24.00000</td>\n",
       "      <td>31.000000</td>\n",
       "      <td>19.000000</td>\n",
       "      <td>12.000000</td>\n",
       "      <td>3.000000</td>\n",
       "      <td>1.000000</td>\n",
       "      <td>15.000000</td>\n",
       "      <td>1.000000</td>\n",
       "    </tr>\n",
       "  </tbody>\n",
       "</table>\n",
       "</div>"
      ],
      "text/plain": [
       "         location     country      gender         age   vis_wuhan  from_wuhan  \\\n",
       "count  863.000000  863.000000  863.000000  863.000000  863.000000  863.000000   \n",
       "mean    76.645423   16.995365    0.849363   49.400000    0.181924    0.107764   \n",
       "std     39.200264    7.809951    0.726062   15.079203    0.386005    0.310261   \n",
       "min      0.000000    0.000000    0.000000    2.000000    0.000000    0.000000   \n",
       "25%     45.000000   11.000000    0.000000   40.000000    0.000000    0.000000   \n",
       "50%     87.000000   18.000000    1.000000   49.400000    0.000000    0.000000   \n",
       "75%    110.000000   24.000000    1.000000   57.000000    0.000000    0.000000   \n",
       "max    138.000000   33.000000    2.000000   96.000000    1.000000    1.000000   \n",
       "\n",
       "        symptom1    symptom2    symptom3    symptom4    symptom5    symptom6  \\\n",
       "count  863.00000  863.000000  863.000000  863.000000  863.000000  863.000000   \n",
       "mean    12.13905   28.002317   18.298957   11.840093    2.993048    0.998841   \n",
       "std      3.99787    7.473231    2.864064    1.183771    0.127251    0.034040   \n",
       "min      0.00000    0.000000    0.000000    0.000000    0.000000    0.000000   \n",
       "25%     14.00000   31.000000   19.000000   12.000000    3.000000    1.000000   \n",
       "50%     14.00000   31.000000   19.000000   12.000000    3.000000    1.000000   \n",
       "75%     14.00000   31.000000   19.000000   12.000000    3.000000    1.000000   \n",
       "max     24.00000   31.000000   19.000000   12.000000    3.000000    1.000000   \n",
       "\n",
       "       diff_sym_hos      result  \n",
       "count    863.000000  863.000000  \n",
       "mean       0.995365    0.125145  \n",
       "std        2.358767    0.331075  \n",
       "min       -5.000000    0.000000  \n",
       "25%        0.000000    0.000000  \n",
       "50%        0.000000    0.000000  \n",
       "75%        1.000000    0.000000  \n",
       "max       15.000000    1.000000  "
      ]
     },
     "execution_count": 27,
     "metadata": {},
     "output_type": "execute_result"
    }
   ],
   "source": [
    "dataset.describe(include=\"all\")"
   ]
  },
  {
   "cell_type": "code",
   "execution_count": 28,
   "id": "9cf48406",
   "metadata": {},
   "outputs": [],
   "source": [
    "import seaborn as sns"
   ]
  },
  {
   "cell_type": "code",
   "execution_count": 29,
   "id": "0139db07",
   "metadata": {},
   "outputs": [
    {
     "data": {
      "text/plain": [
       "<AxesSubplot:>"
      ]
     },
     "execution_count": 29,
     "metadata": {},
     "output_type": "execute_result"
    },
    {
     "data": {
      "image/png": "[encoded data removed]",
      "text/plain": [
       "<Figure size 720x720 with 2 Axes>"
      ]
     },
     "metadata": {
      "needs_background": "light"
     },
     "output_type": "display_data"
    }
   ],
   "source": [
    "fig, ax = plt.subplots(figsize=(10, 10))\n",
    "sns.heatmap(dataset.corr(), annot=True, ax=ax)"
   ]
  },
  {
   "cell_type": "code",
   "execution_count": 30,
   "id": "66e0c9dd",
   "metadata": {},
   "outputs": [],
   "source": [
    "import warnings\n",
    "warnings.filterwarnings('ignore')\n",
    "warnings.simplefilter('ignore')"
   ]
  },
  {
   "cell_type": "markdown",
   "id": "4190f358",
   "metadata": {},
   "source": [
    "# SVM"
   ]
  },
  {
   "cell_type": "code",
   "execution_count": 31,
   "id": "eb25533c",
   "metadata": {},
   "outputs": [],
   "source": [
    "from sklearn import svm"
   ]
  },
  {
   "cell_type": "code",
   "execution_count": 32,
   "id": "61da8922",
   "metadata": {},
   "outputs": [],
   "source": [
    "from sklearn.metrics import roc_curve, auc"
   ]
  },
  {
   "cell_type": "code",
   "execution_count": 33,
   "id": "fc40ec09",
   "metadata": {},
   "outputs": [],
   "source": [
    "from sklearn.metrics import classification_report\n"
   ]
  },
  {
   "cell_type": "markdown",
   "id": "7656e212",
   "metadata": {},
   "source": [
    "### polynomial kernel"
   ]
  },
  {
   "cell_type": "code",
   "execution_count": 34,
   "id": "296994a0",
   "metadata": {},
   "outputs": [
    {
     "data": {
      "image/png": "[encoded data removed]",
      "text/plain": [
       "<Figure size 432x288 with 1 Axes>"
      ]
     },
     "metadata": {
      "needs_background": "light"
     },
     "output_type": "display_data"
    }
   ],
   "source": [
    "c=[1,2,3,4,5,6,7,8,9,10]\n",
    "degrees=[1,2,3,4,5,6,7,8,9,10]\n",
    "scores=[]\n",
    "for poly in degrees:\n",
    "    model=svm.SVC(kernel=\"poly\",degree=poly)\n",
    "    model.fit(x_train,y_train)\n",
    "    score=model.score(x_val,y_val)\n",
    "    scores.append(score)\n",
    "plt.plot(degrees, scores, '-o')\n",
    "plt.title('Accuracy Score vs. Polynomial Degree')\n",
    "plt.xlabel('Polynomial Degree')\n",
    "plt.ylabel('Accuracy Score')\n",
    "plt.xticks(degrees)\n",
    "plt.show()"
   ]
  },
  {
   "cell_type": "code",
   "execution_count": 37,
   "id": "7525c52f",
   "metadata": {},
   "outputs": [
    {
     "name": "stdout",
     "output_type": "stream",
     "text": [
      "use degree: 3 c value: 5\n"
     ]
    }
   ],
   "source": [
    "c=[1,2,3,4,5,6,7,8,9,10,11,12]\n",
    "degrees=[1,2,3,4,5,6,7,8,9,10]\n",
    "max_score=0\n",
    "for degree in degrees:\n",
    "    for constant in c:\n",
    "        model=svm.SVC(kernel=\"poly\",degree=degree,C=constant)\n",
    "        model.fit(x_train,y_train)\n",
    "        score=model.score(x_val,y_val)\n",
    "        if (score>max_score):  \n",
    "            max_score=score\n",
    "            max_degree=degree\n",
    "            max_c=constant\n",
    "print(\"use degree:\",max_degree,\"c value:\",max_c)"
   ]
  },
  {
   "cell_type": "code",
   "execution_count": 38,
   "id": "ab0319af",
   "metadata": {},
   "outputs": [
    {
     "data": {
      "text/plain": [
       "0.9655172413793104"
      ]
     },
     "execution_count": 38,
     "metadata": {},
     "output_type": "execute_result"
    }
   ],
   "source": [
    "model=svm.SVC(kernel=\"poly\",degree=3,C=5)\n",
    "model.fit(x_train,y_train)\n",
    "model.score(x_val,y_val)"
   ]
  },
  {
   "cell_type": "code",
   "execution_count": 39,
   "id": "fae5bb23",
   "metadata": {},
   "outputs": [
    {
     "name": "stdout",
     "output_type": "stream",
     "text": [
      "              precision    recall  f1-score   support\n",
      "\n",
      "           0       0.99      0.97      0.98        79\n",
      "           1       0.78      0.88      0.82         8\n",
      "\n",
      "    accuracy                           0.97        87\n",
      "   macro avg       0.88      0.92      0.90        87\n",
      "weighted avg       0.97      0.97      0.97        87\n",
      "\n"
     ]
    }
   ],
   "source": [
    "y_predict=model.predict(x_test)\n",
    "print(classification_report(y_test,y_predict))"
   ]
  },
  {
   "cell_type": "code",
   "execution_count": 40,
   "id": "9166eb19",
   "metadata": {},
   "outputs": [],
   "source": [
    "fpr, tpr, thresholds = roc_curve(y_test, y_predict)\n",
    "roc_auc = auc(fpr, tpr)"
   ]
  },
  {
   "cell_type": "code",
   "execution_count": 41,
   "id": "c7d1450b",
   "metadata": {},
   "outputs": [
    {
     "data": {
      "text/plain": [
       "<matplotlib.legend.Legend at 0x7fbd793bc850>"
      ]
     },
     "execution_count": 41,
     "metadata": {},
     "output_type": "execute_result"
    },
    {
     "data": {
      "image/png": "[encoded data removed]",
      "text/plain": [
       "<Figure size 432x288 with 1 Axes>"
      ]
     },
     "metadata": {
      "needs_background": "light"
     },
     "output_type": "display_data"
    }
   ],
   "source": [
    "plt.plot(fpr, tpr, color='darkorange', lw=2, label='ROC curve (area = %0.2f)' % roc_auc)\n",
    "plt.plot([0, 1], [0, 1], color='navy', lw=2, linestyle='--')\n",
    "plt.xlim([0.0, 1.0])\n",
    "plt.ylim([0.0, 1.05])\n",
    "plt.xlabel('False Positive Rate')\n",
    "plt.ylabel('True Positive Rate')\n",
    "plt.title('Receiver operating characteristic example')\n",
    "plt.legend(loc=\"lower right\")"
   ]
  },
  {
   "cell_type": "markdown",
   "id": "e6a35049",
   "metadata": {},
   "source": [
    "### rbf kernel"
   ]
  },
  {
   "cell_type": "code",
   "execution_count": 42,
   "id": "bf5df8be",
   "metadata": {
    "scrolled": true
   },
   "outputs": [
    {
     "data": {
      "image/png": "[encoded data removed]",
      "text/plain": [
       "<Figure size 432x288 with 1 Axes>"
      ]
     },
     "metadata": {
      "needs_background": "light"
     },
     "output_type": "display_data"
    }
   ],
   "source": [
    "c=[1,2,3,4,5,6,7,8,9,10]\n",
    "scores=[]\n",
    "for constant in c:\n",
    "    model=svm.SVC(kernel=\"rbf\",C=constant)\n",
    "    model.fit(x_train,y_train)\n",
    "    score=model.score(x_val,y_val)\n",
    "    scores.append(score)\n",
    "plt.plot(c, scores, '-o')\n",
    "plt.title('Accuracy Score vs. C Value')\n",
    "plt.xlabel('C Value')\n",
    "plt.ylabel('Accuracy Score')\n",
    "plt.xticks(c)\n",
    "plt.show()"
   ]
  },
  {
   "cell_type": "code",
   "execution_count": 43,
   "id": "892b4101",
   "metadata": {},
   "outputs": [
    {
     "data": {
      "text/plain": [
       "0.9770114942528736"
      ]
     },
     "execution_count": 43,
     "metadata": {},
     "output_type": "execute_result"
    }
   ],
   "source": [
    "model=svm.SVC(kernel=\"rbf\",C=3)\n",
    "model.fit(x_train,y_train)\n",
    "model.score(x_val,y_val)"
   ]
  },
  {
   "cell_type": "code",
   "execution_count": 44,
   "id": "b2d1c7fd",
   "metadata": {},
   "outputs": [
    {
     "name": "stdout",
     "output_type": "stream",
     "text": [
      "              precision    recall  f1-score   support\n",
      "\n",
      "           0       0.99      0.99      0.99        79\n",
      "           1       0.88      0.88      0.88         8\n",
      "\n",
      "    accuracy                           0.98        87\n",
      "   macro avg       0.93      0.93      0.93        87\n",
      "weighted avg       0.98      0.98      0.98        87\n",
      "\n"
     ]
    }
   ],
   "source": [
    "y_predict=model.predict(x_test)\n",
    "print(classification_report(y_test,y_predict))"
   ]
  },
  {
   "cell_type": "code",
   "execution_count": 45,
   "id": "1606902a",
   "metadata": {},
   "outputs": [],
   "source": [
    "fpr, tpr, thresholds = roc_curve(y_test, y_predict)\n",
    "roc_auc = auc(fpr, tpr)"
   ]
  },
  {
   "cell_type": "code",
   "execution_count": 46,
   "id": "565fc85e",
   "metadata": {},
   "outputs": [
    {
     "data": {
      "text/plain": [
       "<matplotlib.legend.Legend at 0x7fbd79534d30>"
      ]
     },
     "execution_count": 46,
     "metadata": {},
     "output_type": "execute_result"
    },
    {
     "data": {
      "image/png": "[encoded data removed]",
      "text/plain": [
       "<Figure size 432x288 with 1 Axes>"
      ]
     },
     "metadata": {
      "needs_background": "light"
     },
     "output_type": "display_data"
    }
   ],
   "source": [
    "plt.plot(fpr, tpr, color='darkorange', lw=2, label='ROC curve (area = %0.2f)' % roc_auc)\n",
    "plt.plot([0, 1], [0, 1], color='navy', lw=2, linestyle='--')\n",
    "plt.xlim([0.0, 1.0])\n",
    "plt.ylim([0.0, 1.05])\n",
    "plt.xlabel('False Positive Rate')\n",
    "plt.ylabel('True Positive Rate')\n",
    "plt.title('Receiver operating characteristic example')\n",
    "plt.legend(loc=\"lower right\")"
   ]
  },
  {
   "cell_type": "markdown",
   "id": "68e33a55",
   "metadata": {},
   "source": [
    "## linear kernel"
   ]
  },
  {
   "cell_type": "code",
   "execution_count": 47,
   "id": "ca32fd20",
   "metadata": {},
   "outputs": [
    {
     "data": {
      "image/png": "[encoded data removed]",
      "text/plain": [
       "<Figure size 432x288 with 1 Axes>"
      ]
     },
     "metadata": {
      "needs_background": "light"
     },
     "output_type": "display_data"
    }
   ],
   "source": [
    "c=[1,2,3,4,5,6,7,8,9,10]\n",
    "scores=[]\n",
    "for constant in c:\n",
    "    model=svm.SVC(kernel=\"linear\",C=constant)\n",
    "    model.fit(x_train,y_train)\n",
    "    score=model.score(x_val,y_val)\n",
    "    scores.append(score)\n",
    "plt.plot(c, scores, '-o')\n",
    "plt.title('Accuracy Score vs. C Value')\n",
    "plt.xlabel('C Value')\n",
    "plt.ylabel('Accuracy Score')\n",
    "plt.xticks(c)\n",
    "plt.show()"
   ]
  },
  {
   "cell_type": "code",
   "execution_count": 48,
   "id": "e9840810",
   "metadata": {},
   "outputs": [
    {
     "data": {
      "text/plain": [
       "0.9425287356321839"
      ]
     },
     "execution_count": 48,
     "metadata": {},
     "output_type": "execute_result"
    }
   ],
   "source": [
    "model=svm.SVC(kernel=\"linear\",C=2)\n",
    "model.fit(x_train,y_train)\n",
    "model.score(x_val,y_val)"
   ]
  },
  {
   "cell_type": "code",
   "execution_count": 49,
   "id": "a5e43947",
   "metadata": {},
   "outputs": [
    {
     "name": "stdout",
     "output_type": "stream",
     "text": [
      "              precision    recall  f1-score   support\n",
      "\n",
      "           0       0.99      0.97      0.98        79\n",
      "           1       0.78      0.88      0.82         8\n",
      "\n",
      "    accuracy                           0.97        87\n",
      "   macro avg       0.88      0.92      0.90        87\n",
      "weighted avg       0.97      0.97      0.97        87\n",
      "\n"
     ]
    }
   ],
   "source": [
    "y_predict=model.predict(x_test)\n",
    "print(classification_report(y_test,y_predict))"
   ]
  },
  {
   "cell_type": "code",
   "execution_count": 50,
   "id": "96a0bde0",
   "metadata": {},
   "outputs": [
    {
     "data": {
      "text/plain": [
       "<matplotlib.legend.Legend at 0x7fbd782284f0>"
      ]
     },
     "execution_count": 50,
     "metadata": {},
     "output_type": "execute_result"
    },
    {
     "data": {
      "image/png": "[encoded data removed]",
      "text/plain": [
       "<Figure size 432x288 with 1 Axes>"
      ]
     },
     "metadata": {
      "needs_background": "light"
     },
     "output_type": "display_data"
    }
   ],
   "source": [
    "fpr, tpr, thresholds = roc_curve(y_test, y_predict)\n",
    "roc_auc = auc(fpr, tpr)\n",
    "plt.plot(fpr, tpr, color='darkorange', lw=2, label='ROC curve (area = %0.2f)' % roc_auc)\n",
    "plt.plot([0, 1], [0, 1], color='navy', lw=2, linestyle='--')\n",
    "plt.xlim([0.0, 1.0])\n",
    "plt.ylim([0.0, 1.05])\n",
    "plt.xlabel('False Positive Rate')\n",
    "plt.ylabel('True Positive Rate')\n",
    "plt.title('Receiver operating characteristic example')\n",
    "plt.legend(loc=\"lower right\")"
   ]
  },
  {
   "cell_type": "markdown",
   "id": "647f5226",
   "metadata": {},
   "source": [
    "## sigmoid kernel"
   ]
  },
  {
   "cell_type": "code",
   "execution_count": 51,
   "id": "f0c07480",
   "metadata": {},
   "outputs": [
    {
     "data": {
      "image/png": "[encoded data removed]",
      "text/plain": [
       "<Figure size 432x288 with 1 Axes>"
      ]
     },
     "metadata": {
      "needs_background": "light"
     },
     "output_type": "display_data"
    }
   ],
   "source": [
    "c=[1,2,3,4,5,6,7,8,9,10]\n",
    "scores=[]\n",
    "for constant in c:\n",
    "    model=svm.SVC(kernel=\"sigmoid\",C=constant)\n",
    "    model.fit(x_train,y_train)\n",
    "    score=model.score(x_val,y_val)\n",
    "    scores.append(score)\n",
    "plt.plot(c, scores, '-o')\n",
    "plt.title('Accuracy Score vs. C Value')\n",
    "plt.xlabel('C Value')\n",
    "plt.ylabel('Accuracy Score')\n",
    "plt.xticks(c)\n",
    "plt.show()"
   ]
  },
  {
   "cell_type": "code",
   "execution_count": 52,
   "id": "917203fe",
   "metadata": {},
   "outputs": [
    {
     "data": {
      "text/plain": [
       "0.896551724137931"
      ]
     },
     "execution_count": 52,
     "metadata": {},
     "output_type": "execute_result"
    }
   ],
   "source": [
    "model=svm.SVC(kernel=\"sigmoid\",C=1)\n",
    "model.fit(x_train,y_train)\n",
    "model.score(x_val,y_val)"
   ]
  },
  {
   "cell_type": "code",
   "execution_count": 53,
   "id": "d35e952c",
   "metadata": {
    "scrolled": true
   },
   "outputs": [
    {
     "name": "stdout",
     "output_type": "stream",
     "text": [
      "              precision    recall  f1-score   support\n",
      "\n",
      "           0       0.97      0.99      0.98        79\n",
      "           1       0.86      0.75      0.80         8\n",
      "\n",
      "    accuracy                           0.97        87\n",
      "   macro avg       0.92      0.87      0.89        87\n",
      "weighted avg       0.96      0.97      0.96        87\n",
      "\n"
     ]
    }
   ],
   "source": [
    "y_predict=model.predict(x_test)\n",
    "print(classification_report(y_test,y_predict))"
   ]
  },
  {
   "cell_type": "code",
   "execution_count": 54,
   "id": "28166256",
   "metadata": {},
   "outputs": [
    {
     "data": {
      "text/plain": [
       "<matplotlib.legend.Legend at 0x7fbd7811c130>"
      ]
     },
     "execution_count": 54,
     "metadata": {},
     "output_type": "execute_result"
    },
    {
     "data": {
      "image/png": "[encoded data removed]",
      "text/plain": [
       "<Figure size 432x288 with 1 Axes>"
      ]
     },
     "metadata": {
      "needs_background": "light"
     },
     "output_type": "display_data"
    }
   ],
   "source": [
    "fpr, tpr, thresholds = roc_curve(y_test, y_predict)\n",
    "roc_auc = auc(fpr, tpr)\n",
    "plt.plot(fpr, tpr, color='darkorange', lw=2, label='ROC curve (area = %0.2f)' % roc_auc)\n",
    "plt.plot([0, 1], [0, 1], color='navy', lw=2, linestyle='--')\n",
    "plt.xlim([0.0, 1.0])\n",
    "plt.ylim([0.0, 1.05])\n",
    "plt.xlabel('False Positive Rate')\n",
    "plt.ylabel('True Positive Rate')\n",
    "plt.title('Receiver operating characteristic example')\n",
    "plt.legend(loc=\"lower right\")"
   ]
  },
  {
   "cell_type": "markdown",
   "id": "2966f90a",
   "metadata": {},
   "source": [
    "# Bayes "
   ]
  },
  {
   "cell_type": "code",
   "execution_count": 55,
   "id": "10b4370f",
   "metadata": {},
   "outputs": [],
   "source": [
    "from sklearn.naive_bayes import GaussianNB"
   ]
  },
  {
   "cell_type": "code",
   "execution_count": 56,
   "id": "13ab7f7b",
   "metadata": {},
   "outputs": [
    {
     "data": {
      "image/png": "[encoded data removed]",
      "text/plain": [
       "<Figure size 432x288 with 1 Axes>"
      ]
     },
     "metadata": {
      "needs_background": "light"
     },
     "output_type": "display_data"
    },
    {
     "data": {
      "text/plain": [
       "<Figure size 720x720 with 0 Axes>"
      ]
     },
     "metadata": {},
     "output_type": "display_data"
    },
    {
     "name": "stdout",
     "output_type": "stream",
     "text": [
      "5\n",
      "0.9195402298850575\n"
     ]
    }
   ],
   "source": [
    "var_smoothing=[0.001,0.01,0.1,1,2,3,4,5,6,7,8,9,10]\n",
    "scores=[]\n",
    "max_score=0\n",
    "for var in var_smoothing:\n",
    "    model= GaussianNB(var_smoothing=var)\n",
    "    model.fit(x_train,y_train)\n",
    "    score=model.score(x_val,y_val)\n",
    "    scores.append(score)\n",
    "    if (score>max_score):\n",
    "        max_score=score\n",
    "        max_var=var\n",
    "plt.plot(var_smoothing, scores, '-o')\n",
    "plt.title('Accuracy Score vs. var smoothing')\n",
    "plt.xlabel('var smoothing')\n",
    "plt.ylabel('Accuracy Score')\n",
    "plt.xticks(var_smoothing)\n",
    "plt.figure(figsize=(10, 10))\n",
    "plt.show()\n",
    "\n",
    "print(max_var)\n",
    "print(max_score)"
   ]
  },
  {
   "cell_type": "code",
   "execution_count": 57,
   "id": "2a0168a3",
   "metadata": {},
   "outputs": [
    {
     "name": "stdout",
     "output_type": "stream",
     "text": [
      "0.9195402298850575\n",
      "              precision    recall  f1-score   support\n",
      "\n",
      "           0       0.91      1.00      0.95        79\n",
      "           1       0.00      0.00      0.00         8\n",
      "\n",
      "    accuracy                           0.91        87\n",
      "   macro avg       0.45      0.50      0.48        87\n",
      "weighted avg       0.82      0.91      0.86        87\n",
      "\n"
     ]
    }
   ],
   "source": [
    "model=GaussianNB(var_smoothing=5)\n",
    "model.fit(x_train,y_train)\n",
    "print(model.score(x_val,y_val))\n",
    "y_predict=model.predict(x_test)\n",
    "print(classification_report(y_test,y_predict))"
   ]
  },
  {
   "cell_type": "code",
   "execution_count": 58,
   "id": "4f1bbf39",
   "metadata": {},
   "outputs": [
    {
     "data": {
      "text/plain": [
       "<matplotlib.legend.Legend at 0x7fbd7983ce50>"
      ]
     },
     "execution_count": 58,
     "metadata": {},
     "output_type": "execute_result"
    },
    {
     "data": {
      "image/png": "[encoded data removed]",
      "text/plain": [
       "<Figure size 432x288 with 1 Axes>"
      ]
     },
     "metadata": {
      "needs_background": "light"
     },
     "output_type": "display_data"
    }
   ],
   "source": [
    "fpr, tpr, thresholds = roc_curve(y_test, y_predict)\n",
    "roc_auc = auc(fpr, tpr)\n",
    "plt.plot(fpr, tpr, color='darkorange', lw=2, label='ROC curve (area = %0.2f)' % roc_auc)\n",
    "plt.plot([0, 1], [0, 1], color='navy', lw=2, linestyle='--')\n",
    "plt.xlim([0.0, 1.0])\n",
    "plt.ylim([0.0, 1.05])\n",
    "plt.xlabel('False Positive Rate')\n",
    "plt.ylabel('True Positive Rate')\n",
    "plt.title('Receiver operating characteristic example')\n",
    "plt.legend(loc=\"lower right\")"
   ]
  },
  {
   "cell_type": "code",
   "execution_count": 59,
   "id": "42bfbf82",
   "metadata": {},
   "outputs": [
    {
     "name": "stdout",
     "output_type": "stream",
     "text": [
      "0.6436781609195402\n",
      "              precision    recall  f1-score   support\n",
      "\n",
      "           0       1.00      0.71      0.83        79\n",
      "           1       0.26      1.00      0.41         8\n",
      "\n",
      "    accuracy                           0.74        87\n",
      "   macro avg       0.63      0.85      0.62        87\n",
      "weighted avg       0.93      0.74      0.79        87\n",
      "\n"
     ]
    }
   ],
   "source": [
    "model=GaussianNB(var_smoothing=0.01)\n",
    "model.fit(x_train,y_train)\n",
    "print(model.score(x_val,y_val))\n",
    "y_predict=model.predict(x_test)\n",
    "print(classification_report(y_test,y_predict))"
   ]
  },
  {
   "cell_type": "code",
   "execution_count": 60,
   "id": "d0584c89",
   "metadata": {},
   "outputs": [
    {
     "data": {
      "text/plain": [
       "<matplotlib.legend.Legend at 0x7fbd797f3dc0>"
      ]
     },
     "execution_count": 60,
     "metadata": {},
     "output_type": "execute_result"
    },
    {
     "data": {
      "image/png": "[encoded data removed]",
      "text/plain": [
       "<Figure size 432x288 with 1 Axes>"
      ]
     },
     "metadata": {
      "needs_background": "light"
     },
     "output_type": "display_data"
    }
   ],
   "source": [
    "fpr, tpr, thresholds = roc_curve(y_test, y_predict)\n",
    "roc_auc = auc(fpr, tpr)\n",
    "plt.plot(fpr, tpr, color='darkorange', lw=2, label='ROC curve (area = %0.2f)' % roc_auc)\n",
    "plt.plot([0, 1], [0, 1], color='navy', lw=2, linestyle='--')\n",
    "plt.xlim([0.0, 1.0])\n",
    "plt.ylim([0.0, 1.05])\n",
    "plt.xlabel('False Positive Rate')\n",
    "plt.ylabel('True Positive Rate')\n",
    "plt.title('Receiver operating characteristic example')\n",
    "plt.legend(loc=\"lower right\")"
   ]
  },
  {
   "cell_type": "code",
   "execution_count": 68,
   "id": "cdda9678",
   "metadata": {},
   "outputs": [
    {
     "name": "stdout",
     "output_type": "stream",
     "text": [
      "0.7241379310344828\n",
      "              precision    recall  f1-score   support\n",
      "\n",
      "           0       0.99      0.89      0.93        79\n",
      "           1       0.44      0.88      0.58         8\n",
      "\n",
      "    accuracy                           0.89        87\n",
      "   macro avg       0.71      0.88      0.76        87\n",
      "weighted avg       0.94      0.89      0.90        87\n",
      "\n"
     ]
    }
   ],
   "source": [
    "model=GaussianNB(var_smoothing=0.1)\n",
    "model.fit(x_train,y_train)\n",
    "print(model.score(x_val,y_val))\n",
    "y_predict=model.predict(x_test)\n",
    "print(classification_report(y_test,y_predict))"
   ]
  },
  {
   "cell_type": "code",
   "execution_count": 69,
   "id": "325973e2",
   "metadata": {},
   "outputs": [
    {
     "data": {
      "text/plain": [
       "<matplotlib.legend.Legend at 0x7fbd79a59550>"
      ]
     },
     "execution_count": 69,
     "metadata": {},
     "output_type": "execute_result"
    },
    {
     "data": {
      "image/png": "[encoded data removed]",
      "text/plain": [
       "<Figure size 432x288 with 1 Axes>"
      ]
     },
     "metadata": {
      "needs_background": "light"
     },
     "output_type": "display_data"
    }
   ],
   "source": [
    "fpr, tpr, thresholds = roc_curve(y_test, y_predict)\n",
    "roc_auc = auc(fpr, tpr)\n",
    "plt.plot(fpr, tpr, color='darkorange', lw=2, label='ROC curve (area = %0.2f)' % roc_auc)\n",
    "plt.plot([0, 1], [0, 1], color='navy', lw=2, linestyle='--')\n",
    "plt.xlim([0.0, 1.0])\n",
    "plt.ylim([0.0, 1.05])\n",
    "plt.xlabel('False Positive Rate')\n",
    "plt.ylabel('True Positive Rate')\n",
    "plt.title('Receiver operating characteristic example')\n",
    "plt.legend(loc=\"lower right\")"
   ]
  },
  {
   "cell_type": "code",
   "execution_count": 70,
   "id": "f290c883",
   "metadata": {},
   "outputs": [
    {
     "name": "stdout",
     "output_type": "stream",
     "text": [
      "0.7701149425287356\n",
      "              precision    recall  f1-score   support\n",
      "\n",
      "           0       0.99      0.90      0.94        79\n",
      "           1       0.47      0.88      0.61         8\n",
      "\n",
      "    accuracy                           0.90        87\n",
      "   macro avg       0.73      0.89      0.77        87\n",
      "weighted avg       0.94      0.90      0.91        87\n",
      "\n"
     ]
    }
   ],
   "source": [
    "model=GaussianNB(var_smoothing=0.2)\n",
    "model.fit(x_train,y_train)\n",
    "print(model.score(x_val,y_val))\n",
    "y_predict=model.predict(x_test)\n",
    "print(classification_report(y_test,y_predict))"
   ]
  },
  {
   "cell_type": "code",
   "execution_count": 71,
   "id": "3852c0a9",
   "metadata": {},
   "outputs": [
    {
     "data": {
      "text/plain": [
       "<matplotlib.legend.Legend at 0x7fbd79b7b250>"
      ]
     },
     "execution_count": 71,
     "metadata": {},
     "output_type": "execute_result"
    },
    {
     "data": {
      "image/png": "[encoded data removed]",
      "text/plain": [
       "<Figure size 432x288 with 1 Axes>"
      ]
     },
     "metadata": {
      "needs_background": "light"
     },
     "output_type": "display_data"
    }
   ],
   "source": [
    "fpr, tpr, thresholds = roc_curve(y_test, y_predict)\n",
    "roc_auc = auc(fpr, tpr)\n",
    "plt.plot(fpr, tpr, color='darkorange', lw=2, label='ROC curve (area = %0.2f)' % roc_auc)\n",
    "plt.plot([0, 1], [0, 1], color='navy', lw=2, linestyle='--')\n",
    "plt.xlim([0.0, 1.0])\n",
    "plt.ylim([0.0, 1.05])\n",
    "plt.xlabel('False Positive Rate')\n",
    "plt.ylabel('True Positive Rate')\n",
    "plt.title('Receiver operating characteristic example')\n",
    "plt.legend(loc=\"lower right\")"
   ]
  },
  {
   "cell_type": "code",
   "execution_count": 74,
   "id": "af28f7ba",
   "metadata": {},
   "outputs": [
    {
     "name": "stdout",
     "output_type": "stream",
     "text": [
      "0.7931034482758621\n",
      "              precision    recall  f1-score   support\n",
      "\n",
      "           0       0.99      0.91      0.95        79\n",
      "           1       0.50      0.88      0.64         8\n",
      "\n",
      "    accuracy                           0.91        87\n",
      "   macro avg       0.74      0.89      0.79        87\n",
      "weighted avg       0.94      0.91      0.92        87\n",
      "\n"
     ]
    }
   ],
   "source": [
    "model=GaussianNB(var_smoothing=0.3)\n",
    "model.fit(x_train,y_train)\n",
    "print(model.score(x_val,y_val))\n",
    "y_predict=model.predict(x_test)\n",
    "print(classification_report(y_test,y_predict))"
   ]
  },
  {
   "cell_type": "code",
   "execution_count": 75,
   "id": "75d600b2",
   "metadata": {},
   "outputs": [
    {
     "data": {
      "text/plain": [
       "<matplotlib.legend.Legend at 0x7fbd79cd17c0>"
      ]
     },
     "execution_count": 75,
     "metadata": {},
     "output_type": "execute_result"
    },
    {
     "data": {
      "image/png": "[encoded data removed]",
      "text/plain": [
       "<Figure size 432x288 with 1 Axes>"
      ]
     },
     "metadata": {
      "needs_background": "light"
     },
     "output_type": "display_data"
    }
   ],
   "source": [
    "fpr, tpr, thresholds = roc_curve(y_test, y_predict)\n",
    "roc_auc = auc(fpr, tpr)\n",
    "plt.plot(fpr, tpr, color='darkorange', lw=2, label='ROC curve (area = %0.2f)' % roc_auc)\n",
    "plt.plot([0, 1], [0, 1], color='navy', lw=2, linestyle='--')\n",
    "plt.xlim([0.0, 1.0])\n",
    "plt.ylim([0.0, 1.05])\n",
    "plt.xlabel('False Positive Rate')\n",
    "plt.ylabel('True Positive Rate')\n",
    "plt.title('Receiver operating characteristic example')\n",
    "plt.legend(loc=\"lower right\")"
   ]
  },
  {
   "cell_type": "code",
   "execution_count": 76,
   "id": "25952ffb",
   "metadata": {},
   "outputs": [],
   "source": [
    "from sklearn.model_selection import GridSearchCV"
   ]
  },
  {
   "cell_type": "code",
   "execution_count": 77,
   "id": "a5a14e74",
   "metadata": {},
   "outputs": [],
   "source": [
    "grid_parameters={\n",
    "    \"var_smoothing\":[1e-10,1e-09,1e-08,1e-07,1e-06,1e-05,1e-04,1e-03,1e-02,1e-01,1]\n",
    "}"
   ]
  },
  {
   "cell_type": "code",
   "execution_count": 78,
   "id": "87686b72",
   "metadata": {},
   "outputs": [
    {
     "name": "stdout",
     "output_type": "stream",
     "text": [
      "GaussianNB(var_smoothing=1)\n"
     ]
    }
   ],
   "source": [
    "model=GaussianNB()\n",
    "grid_search=GridSearchCV(model,grid_parameters)\n",
    "grid_search.fit(x_train,y_train)\n",
    "print(grid_search.best_estimator_)"
   ]
  },
  {
   "cell_type": "code",
   "execution_count": 79,
   "id": "4b3e21f3",
   "metadata": {},
   "outputs": [
    {
     "name": "stdout",
     "output_type": "stream",
     "text": [
      "0.09195402298850575\n",
      "              precision    recall  f1-score   support\n",
      "\n",
      "           0       1.00      0.04      0.07        79\n",
      "           1       0.10      1.00      0.17         8\n",
      "\n",
      "    accuracy                           0.13        87\n",
      "   macro avg       0.55      0.52      0.12        87\n",
      "weighted avg       0.92      0.13      0.08        87\n",
      "\n"
     ]
    }
   ],
   "source": [
    "GaussianNB(var_smoothing=1)\n",
    "model.fit(x_train,y_train)\n",
    "print(model.score(x_val,y_val))\n",
    "y_predict=model.predict(x_test)\n",
    "print(classification_report(y_test,y_predict))"
   ]
  },
  {
   "cell_type": "code",
   "execution_count": 80,
   "id": "a37366dc",
   "metadata": {},
   "outputs": [],
   "source": [
    "fpr, tpr, thresholds = roc_curve(y_test, y_predict)\n",
    "roc_auc = auc(fpr, tpr)"
   ]
  },
  {
   "cell_type": "code",
   "execution_count": 81,
   "id": "8f1b7fa4",
   "metadata": {
    "scrolled": true
   },
   "outputs": [
    {
     "data": {
      "text/plain": [
       "<matplotlib.legend.Legend at 0x7fbd7a827d00>"
      ]
     },
     "execution_count": 81,
     "metadata": {},
     "output_type": "execute_result"
    },
    {
     "data": {
      "image/png": "[encoded data removed]",
      "text/plain": [
       "<Figure size 432x288 with 1 Axes>"
      ]
     },
     "metadata": {
      "needs_background": "light"
     },
     "output_type": "display_data"
    }
   ],
   "source": [
    "plt.plot(fpr, tpr, color='darkorange', lw=2, label='ROC curve (area = %0.2f)' % roc_auc)\n",
    "plt.plot([0, 1], [0, 1], color='navy', lw=2, linestyle='--')\n",
    "plt.xlim([0.0, 1.0])\n",
    "plt.ylim([0.0, 1.05])\n",
    "plt.xlabel('False Positive Rate')\n",
    "plt.ylabel('True Positive Rate')\n",
    "plt.title('Receiver operating characteristic example')\n",
    "plt.legend(loc=\"lower right\")"
   ]
  },
  {
   "cell_type": "markdown",
   "id": "45fb4de4",
   "metadata": {},
   "source": [
    "# KNN"
   ]
  },
  {
   "cell_type": "code",
   "execution_count": 82,
   "id": "f4ccc9a7",
   "metadata": {},
   "outputs": [],
   "source": [
    "from sklearn.neighbors import KNeighborsClassifier"
   ]
  },
  {
   "cell_type": "code",
   "execution_count": 83,
   "id": "2b7a80ab",
   "metadata": {},
   "outputs": [
    {
     "data": {
      "image/png": "[encoded data removed]",
      "text/plain": [
       "<Figure size 432x288 with 1 Axes>"
      ]
     },
     "metadata": {
      "needs_background": "light"
     },
     "output_type": "display_data"
    }
   ],
   "source": [
    "neighbors=[1,2,3,4,5,6,7,8,9,10]\n",
    "scores=[]\n",
    "for n in neighbors:\n",
    "    model=KNeighborsClassifier(n_neighbors=n)\n",
    "    model.fit(x_train,y_train)\n",
    "    score=model.score(x_val,y_val)\n",
    "    scores.append(score)\n",
    "plt.plot(neighbors, scores, '-o')\n",
    "plt.title('Accuracy Score vs. number of neighbors')\n",
    "plt.xlabel('number of neighbors')\n",
    "plt.ylabel('Accuracy Score')\n",
    "plt.xticks(neighbors)\n",
    "plt.show()"
   ]
  },
  {
   "cell_type": "code",
   "execution_count": 98,
   "id": "a22f4023",
   "metadata": {},
   "outputs": [
    {
     "name": "stdout",
     "output_type": "stream",
     "text": [
      "0.9425287356321839\n",
      "number of neighbors: 1\n",
      "leaf_size: 1\n",
      "distnace metric: chebyshev\n"
     ]
    }
   ],
   "source": [
    "neighbors=[1,3,5,7,9,11,13,15]\n",
    "leaf_size=[1,10,20,30,40]\n",
    "metric=['minkowski','euclidean','manhattan','chebyshev']\n",
    "scores=[]\n",
    "max_score=0\n",
    "for n in neighbors:\n",
    "    for l in leaf_size:\n",
    "        for m in metric:\n",
    "            model=KNeighborsClassifier(n_neighbors=n , leaf_size=l, metric=m)\n",
    "            model.fit(x_train,y_train)\n",
    "            score=model.score(x_val,y_val)\n",
    "            scores.append(score)\n",
    "            if (score>max_score):\n",
    "                max_score=score\n",
    "                max_neighbors=n\n",
    "                max_leafsize=l\n",
    "                best_metric=m\n",
    "print(max_score)\n",
    "print(\"number of neighbors:\",max_neighbors)\n",
    "print(\"leaf_size:\",max_leafsize)\n",
    "print(\"distnace metric:\",best_metric)"
   ]
  },
  {
   "cell_type": "code",
   "execution_count": 107,
   "id": "50d4baa3",
   "metadata": {},
   "outputs": [
    {
     "name": "stdout",
     "output_type": "stream",
     "text": [
      "0.9425287356321839\n",
      "              precision    recall  f1-score   support\n",
      "\n",
      "           0       0.96      0.99      0.97        79\n",
      "           1       0.83      0.62      0.71         8\n",
      "\n",
      "    accuracy                           0.95        87\n",
      "   macro avg       0.90      0.81      0.84        87\n",
      "weighted avg       0.95      0.95      0.95        87\n",
      "\n"
     ]
    }
   ],
   "source": [
    "model=KNeighborsClassifier(n_neighbors=1 , leaf_size=1, metric='chebyshev')\n",
    "model.fit(x_train,y_train)\n",
    "print(model.score(x_val,y_val))\n",
    "y_predict=model.predict(x_test)\n",
    "print(classification_report(y_test,y_predict))"
   ]
  },
  {
   "cell_type": "code",
   "execution_count": 108,
   "id": "d83d4714",
   "metadata": {},
   "outputs": [
    {
     "data": {
      "text/plain": [
       "<matplotlib.legend.Legend at 0x7fbd7adf6fd0>"
      ]
     },
     "execution_count": 108,
     "metadata": {},
     "output_type": "execute_result"
    },
    {
     "data": {
      "image/png": "[encoded data removed]",
      "text/plain": [
       "<Figure size 432x288 with 1 Axes>"
      ]
     },
     "metadata": {
      "needs_background": "light"
     },
     "output_type": "display_data"
    }
   ],
   "source": [
    "fpr, tpr, thresholds = roc_curve(y_test, y_predict)\n",
    "roc_auc = auc(fpr, tpr)\n",
    "plt.plot(fpr, tpr, color='darkorange', lw=2, label='ROC curve (area = %0.2f)' % roc_auc)\n",
    "plt.plot([0, 1], [0, 1], color='navy', lw=2, linestyle='--')\n",
    "plt.xlim([0.0, 1.0])\n",
    "plt.ylim([0.0, 1.05])\n",
    "plt.xlabel('False Positive Rate')\n",
    "plt.ylabel('True Positive Rate')\n",
    "plt.title('Receiver operating characteristic example')\n",
    "plt.legend(loc=\"lower right\")"
   ]
  },
  {
   "cell_type": "code",
   "execution_count": 105,
   "id": "543df774",
   "metadata": {
    "scrolled": false
   },
   "outputs": [
    {
     "name": "stdout",
     "output_type": "stream",
     "text": [
      "0.896551724137931\n",
      "              precision    recall  f1-score   support\n",
      "\n",
      "           0       0.98      1.00      0.99        79\n",
      "           1       1.00      0.75      0.86         8\n",
      "\n",
      "    accuracy                           0.98        87\n",
      "   macro avg       0.99      0.88      0.92        87\n",
      "weighted avg       0.98      0.98      0.98        87\n",
      "\n"
     ]
    }
   ],
   "source": [
    "model=KNeighborsClassifier(n_neighbors=1 , leaf_size=1, metric='minkowski')\n",
    "model.fit(x_train,y_train)\n",
    "print(model.score(x_val,y_val))\n",
    "y_predict=model.predict(x_test)\n",
    "print(classification_report(y_test,y_predict))"
   ]
  },
  {
   "cell_type": "code",
   "execution_count": 106,
   "id": "7f7240f3",
   "metadata": {},
   "outputs": [
    {
     "data": {
      "text/plain": [
       "<matplotlib.legend.Legend at 0x7fbd7926d880>"
      ]
     },
     "execution_count": 106,
     "metadata": {},
     "output_type": "execute_result"
    },
    {
     "data": {
      "image/png": "[encoded data removed]",
      "text/plain": [
       "<Figure size 432x288 with 1 Axes>"
      ]
     },
     "metadata": {
      "needs_background": "light"
     },
     "output_type": "display_data"
    }
   ],
   "source": [
    "fpr, tpr, thresholds = roc_curve(y_test, y_predict)\n",
    "roc_auc = auc(fpr, tpr)\n",
    "plt.plot(fpr, tpr, color='darkorange', lw=2, label='ROC curve (area = %0.2f)' % roc_auc)\n",
    "plt.plot([0, 1], [0, 1], color='navy', lw=2, linestyle='--')\n",
    "plt.xlim([0.0, 1.0])\n",
    "plt.ylim([0.0, 1.05])\n",
    "plt.xlabel('False Positive Rate')\n",
    "plt.ylabel('True Positive Rate')\n",
    "plt.title('Receiver operating characteristic example')\n",
    "plt.legend(loc=\"lower right\")"
   ]
  }
 ],
 "metadata": {
  "kernelspec": {
   "display_name": "Python 3 (ipykernel)",
   "language": "python",
   "name": "python3"
  },
  "language_info": {
   "codemirror_mode": {
    "name": "ipython",
    "version": 3
   },
   "file_extension": ".py",
   "mimetype": "text/x-python",
   "name": "python",
   "nbconvert_exporter": "python",
   "pygments_lexer": "ipython3",
   "version": "3.9.12"
  }
 },
 "nbformat": 4,
 "nbformat_minor": 5
}
